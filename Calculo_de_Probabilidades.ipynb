{
  "nbformat": 4,
  "nbformat_minor": 0,
  "metadata": {
    "colab": {
      "provenance": []
    },
    "kernelspec": {
      "name": "python3",
      "display_name": "Python 3"
    },
    "language_info": {
      "name": "python"
    }
  },
  "cells": [
    {
      "cell_type": "markdown",
      "source": [
        "Considere el problema de seleccionar dos solicitantes para un trabajo, de un grupo de cinco solicitantes e imagine que éstos varían en grado de competencia, 1 siendo el mejor, 2 el segundo mejor y así sucesivamente para 3, 4 y 5. Estas clasifi caciones son por supuesto desconocidas para el empleador. Defina dos eventos A y B como:\n",
        "\n",
        "A:  El empleador selecciona al mejor y a uno de los dos solicitantes menos aptos (1 y 4 o 1 y 5).\n",
        "\n",
        "B:  El empleador selecciona al menos uno de los dos mejores.\n",
        "\n",
        "Encuentre las probabilidades de estos eventos."
      ],
      "metadata": {
        "id": "vs9MLarWIIlO"
      }
    },
    {
      "cell_type": "code",
      "source": [
        "from math import comb\n",
        "\n",
        "#Calculamos el total de combinaciones posibles:\n",
        "combinaciones = comb(5,2)\n",
        "\n",
        "#Calcular la probabilidad de seleccionar al mejor y a uno de los dos menos aptos.\n",
        "numA = 2 #Corresponde a los dos caso de seleccionar a (1, 4) o (1,5)\n",
        "probA = numA/combinaciones\n",
        "\n",
        "#Calcular la probabilidad de seleccionar al menos uno de los dos mejores:\n",
        "#Para esto calcularemos el complemento, esto es, la probabilidad de no seleccionar\n",
        "#ni 1 ni 2 sino 3,4,5:\n",
        "complementoB = comb(3,2)\n",
        "probaB = 1-(complementoB / combinaciones)\n",
        "\n",
        "print(f'Probabilidad del evento A: {probA}, o en porcentaje: {probA*100}')\n",
        "print(f'Probabilidad del evento B: {probaB}, o en porcentaje: {probaB*100}')"
      ],
      "metadata": {
        "colab": {
          "base_uri": "https://localhost:8080/"
        },
        "id": "EbD5qYlYIU2s",
        "outputId": "f85da0a6-d55d-433a-d514-0efd4c6415b1"
      },
      "execution_count": null,
      "outputs": [
        {
          "output_type": "stream",
          "name": "stdout",
          "text": [
            "Probabilidad del evento A: 0.2, o en porcentaje: 20.0\n",
            "Probabilidad del evento B: 0.7, o en porcentaje: 70.0\n"
          ]
        }
      ]
    },
    {
      "cell_type": "markdown",
      "source": [
        "# **2**.\n",
        "\n",
        "Una moneda balanceada se lanza tres veces al aire. Calcule la probabilidad de que exactamente dos de los tres tiros resulten en caras."
      ],
      "metadata": {
        "id": "hPFhF-V8ObhL"
      }
    },
    {
      "cell_type": "code",
      "source": [
        "from math import comb\n",
        "\n",
        "#Parametros:\n",
        "n = 3 #Numero de lanzamientos.\n",
        "k = 2 #Numero de caras deseadas\n",
        "p = 0.5  #Probabilidad de cara en un lanzamiento justo.\n",
        "\n",
        "#Utilizando la formula binomial:\n",
        "\n",
        "probabilidad = comb(n,k) * (p**k) * ((1-p)**(n-k))\n",
        "\n",
        "print(f'La probabilidad de exactamente dos caras en tres lanzamientos es: {probabilidad:.3f}, o en porcentaje: {probabilidad*100:.1f}%')"
      ],
      "metadata": {
        "colab": {
          "base_uri": "https://localhost:8080/"
        },
        "id": "ZumbNosTOfdf",
        "outputId": "f061bbbd-3cc0-49b5-e2ec-f096ae584efd"
      },
      "execution_count": null,
      "outputs": [
        {
          "output_type": "stream",
          "name": "stdout",
          "text": [
            "La probabilidad de exactamente dos caras en tres lanzamientos es: 0.375, o en porcentaje: 37.5%\n"
          ]
        }
      ]
    },
    {
      "cell_type": "markdown",
      "source": [
        "# **3**.\n",
        "\n",
        "Las probabilidades son dos a uno de que, cuando A y B juegan tenis, A gane. Suponga que A y B juegan dos partidos. ¿Cuál es la probabilidad de que A gane al menos un partido?"
      ],
      "metadata": {
        "id": "muSqai-gQ25U"
      }
    },
    {
      "cell_type": "code",
      "source": [
        "#Las probabilidades de que A gane son dos a uno, entonces:\n",
        "\n",
        "prA = 2/3 #Probabilidad de que A gane un partido.\n",
        "prB = 1/3 #Probabilidad de que B gane un partido.\n",
        "\n",
        "#Calculamos la probabilidad de que B gane ambos eventos:\n",
        "proBB = prB * prB\n",
        "\n",
        "#Calculamos la porbabilidad de que A gane al menosun partido:\n",
        "proA = 1- proBB\n",
        "\n",
        "print(f'Probabilidad de que A gane al menos un partido: {proA:.4f}, o en porcentaje: {proA*100:.2f}%')"
      ],
      "metadata": {
        "colab": {
          "base_uri": "https://localhost:8080/"
        },
        "id": "2Z9S8qSvQ5iI",
        "outputId": "10fbad1b-f04e-4d74-bc23-2ac958953d20"
      },
      "execution_count": null,
      "outputs": [
        {
          "output_type": "stream",
          "name": "stdout",
          "text": [
            "Probabilidad de que A gane al menos un partido: 0.8889, o en porcentaje: 88.89%\n"
          ]
        }
      ]
    },
    {
      "cell_type": "markdown",
      "source": [
        "# **4**.\n",
        "\n",
        "Un detallista vende sólo dos estilos de consolas estéreo y la experiencia muestra que ambas tienen igual demanda. Cuatro clientes en sucesión entran a la tienda para comprar estéreos. El vendedor está interesado en sus preferencias.\n",
        "\n",
        "Indique las posibilidades para arreglos de preferencia entre los cuatro clientes (esto es, indique el espacio muestral)."
      ],
      "metadata": {
        "id": "rrIfuKh2e9oP"
      }
    },
    {
      "cell_type": "code",
      "source": [
        "import itertools\n",
        "\n",
        "#Denotemos los dos estilos de consolas estereo A y B:\n",
        "\n",
        "estilos = ['A', 'B']\n",
        "\n",
        "#Generemos todas las posibles combinaciones de 4 clientes, el espacio muestral:\n",
        "\n",
        "espacio_muestral = list(itertools.product(estilos, repeat=4))\n",
        "\n",
        "print('Elementos del Espacio Muestral: ')\n",
        "for i, combinacion in enumerate(espacio_muestral, 1):\n",
        "  print(f\"{i}. {''.join(combinacion)}\")"
      ],
      "metadata": {
        "colab": {
          "base_uri": "https://localhost:8080/"
        },
        "id": "Enjp0bNHfS_i",
        "outputId": "798c6ca7-162b-4bda-dafb-f608cc9a1479"
      },
      "execution_count": null,
      "outputs": [
        {
          "output_type": "stream",
          "name": "stdout",
          "text": [
            "Elementos del Espacio Muestral: \n",
            "1. AAAA\n",
            "2. AAAB\n",
            "3. AABA\n",
            "4. AABB\n",
            "5. ABAA\n",
            "6. ABAB\n",
            "7. ABBA\n",
            "8. ABBB\n",
            "9. BAAA\n",
            "10. BAAB\n",
            "11. BABA\n",
            "12. BABB\n",
            "13. BBAA\n",
            "14. BBAB\n",
            "15. BBBA\n",
            "16. BBBB\n"
          ]
        }
      ]
    },
    {
      "cell_type": "markdown",
      "source": [
        " Asigne probabilidades a los puntos muestrales."
      ],
      "metadata": {
        "id": "clBhAW7whx9q"
      }
    },
    {
      "cell_type": "code",
      "source": [
        "Dado que cada cliente elige independientemente entre los estilos A o B y ambos\n",
        "tienen la misma probabilidad de ser seleccionados P(A) = P(B) = 1/2, cada punto\n",
        "muestral tiene la misma probabilidad de ocurrir Como hay 2**4 = 16 puntos\n",
        "muestrales y todos son equiprobables, la probabilidad de cada uno es:\n",
        "\n",
        "P(cualquier punto muestral) = 1/16."
      ],
      "metadata": {
        "id": "Nvs6UdpWgWLv"
      },
      "execution_count": null,
      "outputs": []
    },
    {
      "cell_type": "markdown",
      "source": [
        "Denote con A el evento de que los cuatro clientes prefi eran el mismo estilo.\n",
        "\n",
        "Encuentre P(A)."
      ],
      "metadata": {
        "id": "HeNIQry9itms"
      }
    },
    {
      "cell_type": "code",
      "source": [
        "#Calculemos la probabilidad del evento C: Todos eligen A o todos eligen B:\n",
        "\n",
        "evento_C = [combinacion for combinacion in espacio_muestral\n",
        "            if all(estilo == 'A' for estilo in combinacion) or\n",
        "               all(estilo == 'B' for estilo in combinacion)]\n",
        "\n",
        "pb = len(evento_C) / len(espacio_muestral)\n",
        "\n",
        "print(f\"La probabilidad de que todos elijan el mismo estilo: {[''.join(comb) for comb in evento_C]}\")\n",
        "print(f'P(A) = {pb}')"
      ],
      "metadata": {
        "colab": {
          "base_uri": "https://localhost:8080/"
        },
        "id": "IelfeeBggVlU",
        "outputId": "e12bab38-59a2-48ee-e3a0-c85c3aa1e9a1"
      },
      "execution_count": null,
      "outputs": [
        {
          "output_type": "stream",
          "name": "stdout",
          "text": [
            "La probabilidad de que todos elijan el mismo estilo: ['AAAA', 'BBBB']\n",
            "P(A) = 0.125\n"
          ]
        }
      ]
    },
    {
      "cell_type": "markdown",
      "source": [
        "# **5**.\n",
        "\n",
        "La Oficina del Censo reporta que el ingreso familiar mediano para todas las familias en Estados Unidos, durante el año 2003, fue $\\$$43,318. Esto es, la mitad de todas las familias estadounidenses tuvo ingresos que rebasaban esta cantidad y la mitad tuvo ingresos iguales o menores a esta cantidad. Suponga que se hace una encuesta a cuatro familias y que cada una de ellas revela si su ingreso rebasó los $43,318 en 2003.\n",
        "\n",
        "Indique los puntos del espacio muestral."
      ],
      "metadata": {
        "id": "vN1mSoRArpTi"
      }
    },
    {
      "cell_type": "code",
      "source": [
        "import itertools\n",
        "\n",
        "#Definimos los posibles resultados por familia, sea S para indicar que la\n",
        "#familia en cuestion rebasa el ingreso mediano y N para denotar que no lo rebasa:\n",
        "resultados = ['S', 'N']\n",
        "\n",
        "#Generamos las posibles combinaciones para las cuatro familias:\n",
        "\n",
        "esp_muestral = list(itertools.product(resultados, repeat=4))\n",
        "\n",
        "#Mostramos el espacion muestral:\n",
        "\n",
        "print(f'Los elementos del espacio muetral son:')\n",
        "for i, comb in enumerate(esp_muestral, 1):\n",
        "  print(f\"{i}. {''.join(comb)}\")"
      ],
      "metadata": {
        "colab": {
          "base_uri": "https://localhost:8080/"
        },
        "id": "Kxzc62nWrymd",
        "outputId": "e166d66e-1830-4b69-fe89-3784991af3ba"
      },
      "execution_count": null,
      "outputs": [
        {
          "output_type": "stream",
          "name": "stdout",
          "text": [
            "Los elementos del espacio muetral son:\n",
            "1. SSSS\n",
            "2. SSSN\n",
            "3. SSNS\n",
            "4. SSNN\n",
            "5. SNSS\n",
            "6. SNSN\n",
            "7. SNNS\n",
            "8. SNNN\n",
            "9. NSSS\n",
            "10. NSSN\n",
            "11. NSNS\n",
            "12. NSNN\n",
            "13. NNSS\n",
            "14. NNSN\n",
            "15. NNNS\n",
            "16. NNNN\n"
          ]
        }
      ]
    },
    {
      "cell_type": "markdown",
      "source": [
        " Identifique los eventos simples en cada uno de los eventos siguientes:\n",
        "\n",
        "A: al menos dos tuvieron ingresos de más de $\\$$43,318.\n",
        "\n",
        "B: exactamente dos tuvieron ingresos de más de $\\$$43,318.\n",
        "\n",
        "C: exactamente una tuvo ingresos menores o iguales a $\\$$43,318."
      ],
      "metadata": {
        "id": "t68V3cmnuBCs"
      }
    },
    {
      "cell_type": "code",
      "source": [
        "# Evento A: Obtenemos al menos dos S:\n",
        "evento_A = [comb for comb in esp_muestral if comb.count('S') >= 2]\n",
        "print('El evento A esta computo por las combinaciones: ', evento_A)\n",
        "\n",
        "\n",
        "evento_B = [comb for comb in esp_muestral if comb.count('S') == 2]\n",
        "print('El evento B esta compuesto por las combinaciones: ', evento_B)\n",
        "\n",
        "evento_C = [comb for comb in esp_muestral if comb.count('N') ==1]\n",
        "print('El evento C esta compuesto por las combinaciones: ', evento_C)"
      ],
      "metadata": {
        "colab": {
          "base_uri": "https://localhost:8080/"
        },
        "id": "tEEwitj4uqu_",
        "outputId": "f4a8e57e-38c6-4229-a8d2-05f0bda5629e"
      },
      "execution_count": null,
      "outputs": [
        {
          "output_type": "stream",
          "name": "stdout",
          "text": [
            "El evento A esta computo por las combinaciones:  [('S', 'S', 'S', 'S'), ('S', 'S', 'S', 'N'), ('S', 'S', 'N', 'S'), ('S', 'S', 'N', 'N'), ('S', 'N', 'S', 'S'), ('S', 'N', 'S', 'N'), ('S', 'N', 'N', 'S'), ('N', 'S', 'S', 'S'), ('N', 'S', 'S', 'N'), ('N', 'S', 'N', 'S'), ('N', 'N', 'S', 'S')]\n",
            "El evento B esta compuesto por las combinaciones:  [('S', 'S', 'N', 'N'), ('S', 'N', 'S', 'N'), ('S', 'N', 'N', 'S'), ('N', 'S', 'S', 'N'), ('N', 'S', 'N', 'S'), ('N', 'N', 'S', 'S')]\n",
            "El evento C esta compuesto por las combinaciones:  [('S', 'S', 'S', 'N'), ('S', 'S', 'N', 'S'), ('S', 'N', 'S', 'S'), ('N', 'S', 'S', 'S')]\n"
          ]
        }
      ]
    },
    {
      "cell_type": "markdown",
      "source": [
        "Haga uso de la interpretación dada para la mediana para asignar probabilidades a los eventos simples y encuentre P(A), P(B) y P(C)."
      ],
      "metadata": {
        "id": "KKfgN5-_7k_q"
      }
    },
    {
      "cell_type": "code",
      "source": [
        "from math import comb\n",
        "\n",
        "#El ingreso mediano es de $43, 318, lo que significa que\n",
        "#P(S) = 0.5: Probabilidad de que una familia tenga ingresos mayores a $43,318.\n",
        "#P(N) = 0.5: Probabilidad de que una familia tenga ingresos menores o iguales a $43,318.\n",
        "#Suponemos que la respuesta de cada familia es independiente\n",
        "\n",
        "#Calculo de probabilidades:\n",
        "P_A = comb(4,2)*(0.5**4) + comb(4,3)*(0.5**4) + comb(4,4)*(0.5**4)\n",
        "P_B = comb(4,2)*(0.5**4)\n",
        "P_C = comb(4,3)*(0.5**4)\n",
        "\n",
        "print(f'P(A) = {P_A:.3f}')\n",
        "print(f'P(B) = {P_B:.3f}')\n",
        "print(f'P(C) = {P_C:.3f}')"
      ],
      "metadata": {
        "colab": {
          "base_uri": "https://localhost:8080/"
        },
        "id": "77COKf2772kz",
        "outputId": "1d29b44c-64ac-4a45-8f7c-0bd4c6b28c66"
      },
      "execution_count": null,
      "outputs": [
        {
          "output_type": "stream",
          "name": "stdout",
          "text": [
            "P(A) = 0.688\n",
            "P(B) = 0.375\n",
            "P(C) = 0.250\n"
          ]
        }
      ]
    },
    {
      "cell_type": "markdown",
      "source": [
        "# **6**.\n",
        "\n",
        "Los pacientes que llegan a una clínica para atención externa pueden seleccionar una de tres estaciones de servicio. Suponga que los médicos se asignan al azar a las estaciones y que los pacientes por tanto no tienen preferencia de estación. Tres pacientes llegan a la clínica y se observa su selección de estación.\n",
        "\n",
        "Indique los puntos muestrales para el experimento."
      ],
      "metadata": {
        "id": "--_klCwDjK3j"
      }
    },
    {
      "cell_type": "code",
      "source": [
        "import itertools\n",
        "\n",
        "#Definimos la terna (E1, E2, E3) donnde la posicion indica el numero\n",
        "#de paciente y Ei es la estacion que eligio el paciente.\n",
        "\n",
        "estaciones = ['E1', 'E2', 'E3']\n",
        "\n",
        "espa_muestral = list(itertools.product(estaciones, repeat = 3))\n",
        "\n",
        "print('Los elementos del espacio muestral son:')\n",
        "\n",
        "for i, cb in enumerate(espa_muestral,1):\n",
        "  print(f\"{i}. {''.join(cb)}\")"
      ],
      "metadata": {
        "colab": {
          "base_uri": "https://localhost:8080/"
        },
        "id": "2NgDepx_8qcT",
        "outputId": "8988389c-7206-48f1-cf41-d171acf173b4"
      },
      "execution_count": 5,
      "outputs": [
        {
          "output_type": "stream",
          "name": "stdout",
          "text": [
            "Los elementos del espacio muestral son:\n",
            "1. E1E1E1\n",
            "2. E1E1E2\n",
            "3. E1E1E3\n",
            "4. E1E2E1\n",
            "5. E1E2E2\n",
            "6. E1E2E3\n",
            "7. E1E3E1\n",
            "8. E1E3E2\n",
            "9. E1E3E3\n",
            "10. E2E1E1\n",
            "11. E2E1E2\n",
            "12. E2E1E3\n",
            "13. E2E2E1\n",
            "14. E2E2E2\n",
            "15. E2E2E3\n",
            "16. E2E3E1\n",
            "17. E2E3E2\n",
            "18. E2E3E3\n",
            "19. E3E1E1\n",
            "20. E3E1E2\n",
            "21. E3E1E3\n",
            "22. E3E2E1\n",
            "23. E3E2E2\n",
            "24. E3E2E3\n",
            "25. E3E3E1\n",
            "26. E3E3E2\n",
            "27. E3E3E3\n"
          ]
        }
      ]
    },
    {
      "cell_type": "markdown",
      "source": [
        "Sea A el evento de que cada estación recibe a un paciente. Indique los puntos muestrales en A."
      ],
      "metadata": {
        "id": "HKq8hMm6nrfA"
      }
    },
    {
      "cell_type": "code",
      "source": [
        "#Filtramos los puntos del espacio muestral donde no hay repeticion de estaciones:\n",
        "event_A = [punto for punto in espa_muestral if len(set(punto)) == 3]\n",
        "\n",
        "print('Los puntos muestrales del evento A son:')\n",
        "for i, punto in enumerate(event_A, 1):\n",
        "  print(f\"{i}. {punto}\")\n",
        "\n",
        "print(f\"El total de punto en el evento A es: {len(event_A)}\")"
      ],
      "metadata": {
        "colab": {
          "base_uri": "https://localhost:8080/"
        },
        "id": "roOoukdxn2ZJ",
        "outputId": "0714284b-0929-4ea9-bddd-f8d86eb991fe"
      },
      "execution_count": 6,
      "outputs": [
        {
          "output_type": "stream",
          "name": "stdout",
          "text": [
            "Los puntos muestrales del evento A son:\n",
            "1. ('E1', 'E2', 'E3')\n",
            "2. ('E1', 'E3', 'E2')\n",
            "3. ('E2', 'E1', 'E3')\n",
            "4. ('E2', 'E3', 'E1')\n",
            "5. ('E3', 'E1', 'E2')\n",
            "6. ('E3', 'E2', 'E1')\n",
            "El total de punto en el evento A es: 6\n"
          ]
        }
      ]
    },
    {
      "cell_type": "markdown",
      "source": [
        "Haga una asignación razonable de probabilidades a los puntos muestrales y encuentre P(A)."
      ],
      "metadata": {
        "id": "kBYU8A8fp_EO"
      }
    },
    {
      "cell_type": "code",
      "source": [
        "#Supongamos que los pacientes eligen las estaciones al azar y sin preferencia:\n",
        "\n",
        "pro_punto = 1 / (len(espa_muestral))\n",
        "\n",
        "#Calcular la probabilidad del evento A:\n",
        "P_A = len(event_A)*pro_punto\n",
        "\n",
        "print(f'P(A) = {P_A}, EN FRACCION: {len(event_A)}/{(len(espa_muestral))}')"
      ],
      "metadata": {
        "colab": {
          "base_uri": "https://localhost:8080/"
        },
        "id": "NAJsss6aqAeN",
        "outputId": "7689d413-a1b0-41b7-c57a-823c878b4c3f"
      },
      "execution_count": 10,
      "outputs": [
        {
          "output_type": "stream",
          "name": "stdout",
          "text": [
            "P(A) = 0.2222222222222222, EN FRACCION: 6/27\n"
          ]
        }
      ]
    },
    {
      "cell_type": "markdown",
      "source": [
        "# **7**.\n",
        "\n",
        "Un experimento incluye lanzar un par de dados y observar los números de sus caras superiores. Encuentre el número de puntos muestrales en S, el espacio muestral para el experimento."
      ],
      "metadata": {
        "id": "9xosg7qft0tq"
      }
    },
    {
      "cell_type": "code",
      "source": [
        "from itertools import product\n",
        "\n",
        "#Definimos las caras de los dados:\n",
        "caras = [1,2,3,4,5,6]\n",
        "\n",
        "#General el esopacio muestral:\n",
        "espac_muestral = list(itertools.product(caras, repeat=2))\n",
        "\n",
        "#numero de puntos muestrales:\n",
        "n = len(espac_muestral)\n",
        "\n",
        "print(f'El espacio muestral tiene {n} puntos, los cuales son los siguientes:')\n",
        "for i, punt in enumerate(espac_muestral, 1):\n",
        "  print(f\"{i}. {punto}\", end =\" | \" if i % 6 != 0 else \"\\n\")"
      ],
      "metadata": {
        "colab": {
          "base_uri": "https://localhost:8080/"
        },
        "id": "ZwiWLXX2t3O6",
        "outputId": "21b7a147-f10d-4a8a-a95c-ccad42a73c47"
      },
      "execution_count": 13,
      "outputs": [
        {
          "output_type": "stream",
          "name": "stdout",
          "text": [
            "El espacio muestral tiene 36 puntos, los cuales son los siguientes:\n",
            "1. ('E3', 'E2', 'E1') | 2. ('E3', 'E2', 'E1') | 3. ('E3', 'E2', 'E1') | 4. ('E3', 'E2', 'E1') | 5. ('E3', 'E2', 'E1') | 6. ('E3', 'E2', 'E1')\n",
            "7. ('E3', 'E2', 'E1') | 8. ('E3', 'E2', 'E1') | 9. ('E3', 'E2', 'E1') | 10. ('E3', 'E2', 'E1') | 11. ('E3', 'E2', 'E1') | 12. ('E3', 'E2', 'E1')\n",
            "13. ('E3', 'E2', 'E1') | 14. ('E3', 'E2', 'E1') | 15. ('E3', 'E2', 'E1') | 16. ('E3', 'E2', 'E1') | 17. ('E3', 'E2', 'E1') | 18. ('E3', 'E2', 'E1')\n",
            "19. ('E3', 'E2', 'E1') | 20. ('E3', 'E2', 'E1') | 21. ('E3', 'E2', 'E1') | 22. ('E3', 'E2', 'E1') | 23. ('E3', 'E2', 'E1') | 24. ('E3', 'E2', 'E1')\n",
            "25. ('E3', 'E2', 'E1') | 26. ('E3', 'E2', 'E1') | 27. ('E3', 'E2', 'E1') | 28. ('E3', 'E2', 'E1') | 29. ('E3', 'E2', 'E1') | 30. ('E3', 'E2', 'E1')\n",
            "31. ('E3', 'E2', 'E1') | 32. ('E3', 'E2', 'E1') | 33. ('E3', 'E2', 'E1') | 34. ('E3', 'E2', 'E1') | 35. ('E3', 'E2', 'E1') | 36. ('E3', 'E2', 'E1')\n"
          ]
        }
      ]
    },
    {
      "cell_type": "markdown",
      "source": [
        "# **8**.\n",
        "\n",
        "Considere un experimento que consiste en registrar el cumpleaños para cada una de 20 personas seleccionadas al azar. Si no se presta atención a los años bisiestos y se supone que hay sólo 365 cumpleaños distintos posibles, encuentre el número de puntos del espacio muestral S para este experimento. Si suponemos que cada uno de los posibles conjuntos de cumpleaños es igualmente probable, ¿cuál es la probabilidad de que cada persona de las 20 tenga un cumpleaños diferente?"
      ],
      "metadata": {
        "id": "L3tG746C2MbK"
      }
    },
    {
      "cell_type": "code",
      "source": [
        "n_esmuestral = 365**20\n",
        "n_esmuestral"
      ],
      "metadata": {
        "colab": {
          "base_uri": "https://localhost:8080/"
        },
        "id": "v9Rxs46v2R7M",
        "outputId": "b4f078e9-89e3-4dd0-ff72-8183a482d7d5"
      },
      "execution_count": 14,
      "outputs": [
        {
          "output_type": "execute_result",
          "data": {
            "text/plain": [
              "1761397149289626339965899029490128250217437744140625"
            ]
          },
          "metadata": {},
          "execution_count": 14
        }
      ]
    },
    {
      "cell_type": "code",
      "source": [
        "from math import prod\n",
        "\n",
        "#Probabilidad de qur todos tengan cumpleaños distintos:\n",
        "P_A = prod(1 - k /365 for k in range(20))\n",
        "\n",
        "print(f'P(A) = {P_A:.4f} (≈ {P_A*100:.2f}%)')"
      ],
      "metadata": {
        "colab": {
          "base_uri": "https://localhost:8080/"
        },
        "id": "p7Uyu1uX2jG_",
        "outputId": "cfc2d6f0-fa6b-46f9-8897-ad08c011e4a8"
      },
      "execution_count": 16,
      "outputs": [
        {
          "output_type": "stream",
          "name": "stdout",
          "text": [
            "P(A) = 0.5886 (≈ 58.86%)\n"
          ]
        }
      ]
    },
    {
      "cell_type": "markdown",
      "source": [
        "# **9**.\n",
        "\n",
        "\n",
        "Los nombres de 3 empleados se han de sacar al azar, sin restitución, de un tazón que contiene los nombres de 30 empleados de una pequeña compañía. La persona cuyo nombre sea sacado primero recibe $\\$$100 y aquellos cuyos nombres se saquen en segundo y tercero recibirán $\\$$50 y $\\$$25, respectivamente. ¿Cuántos puntos muestrales están asociados con este experimento?"
      ],
      "metadata": {
        "id": "1ltUSHZ66hcg"
      }
    },
    {
      "cell_type": "code",
      "source": [
        "from math import perm\n",
        "\n",
        "#Numero de permutaciones de 30 tomados de 3 en 3:\n",
        "nu = perm(30,3) #30*29*28\n",
        "\n",
        "print(f'El numero de puntos muestrales es: {nu}')"
      ],
      "metadata": {
        "colab": {
          "base_uri": "https://localhost:8080/"
        },
        "id": "1vD9nmR56g6U",
        "outputId": "8b4b982c-8f48-4d63-a590-e16777284661"
      },
      "execution_count": 17,
      "outputs": [
        {
          "output_type": "stream",
          "name": "stdout",
          "text": [
            "El numero de puntos muestrales es: 24360\n"
          ]
        }
      ]
    },
    {
      "cell_type": "markdown",
      "source": [
        "# **10**.\n",
        "\n",
        "Suponga que una operación de ensamble en una planta de manufacturas consta de cuatro pasos que se pueden efectuar en cualquier secuencia. Si el fabricante desea comparar el tiempo de ensamble para cada una de las secuencias, ¿cuántas secuencias diferentes estarán involucradas en el experimento?**texto en negrita**"
      ],
      "metadata": {
        "id": "DxnnDTm27l_N"
      }
    },
    {
      "cell_type": "code",
      "source": [
        "from math import perm\n",
        "\n",
        "num = perm(4,4)\n",
        "\n",
        "print(f'El numero de puntos muestrales es: {num}')"
      ],
      "metadata": {
        "colab": {
          "base_uri": "https://localhost:8080/"
        },
        "id": "irA9hj937pnt",
        "outputId": "24b60671-8d64-4dc6-f15c-d83bb28cf1a9"
      },
      "execution_count": 18,
      "outputs": [
        {
          "output_type": "stream",
          "name": "stdout",
          "text": [
            "El numero de puntos muestrales es: 24\n"
          ]
        }
      ]
    }
  ]
}