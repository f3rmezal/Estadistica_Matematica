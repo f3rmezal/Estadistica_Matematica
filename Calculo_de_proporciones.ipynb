{
  "nbformat": 4,
  "nbformat_minor": 0,
  "metadata": {
    "colab": {
      "provenance": []
    },
    "kernelspec": {
      "name": "python3",
      "display_name": "Python 3"
    },
    "language_info": {
      "name": "python"
    }
  },
  "cells": [
    {
      "cell_type": "markdown",
      "source": [
        "Los ritmos de respiración en reposo para estudiantes en edad universitaria están normalmente distribuidos, en forma aproximada, con una media de 12 y desviación estándar de 2.3 respiraciones por minuto. ¿Qué fracción de todos los estudiantes en edad universitaria tienen ritmos de respiración en los interva\n",
        "los siguientes?\n",
        "\n",
        "De 9.7 a 14.3 respiraciones por minuto."
      ],
      "metadata": {
        "id": "gI0wbkADoXcI"
      }
    },
    {
      "cell_type": "code",
      "source": [
        "#Podemos calcular los valores Z para los limites del intervalo:\n",
        "\n",
        "from scipy.stats import norm\n",
        "\n",
        "mean = 12\n",
        "std = 2.3\n",
        "liminf = 9.7\n",
        "limsup=14.3\n",
        "\n",
        "zinf=(liminf-mean)/std\n",
        "zsup=(limsup-mean)/std\n",
        "\n",
        "prob = norm.cdf(zsup)-norm.cdf(zinf)\n",
        "print(f'Fraccion de estudiantes en el intervalo [{liminf}, {limsup}]: {prob:.4f} o el {prob:.4f}%')"
      ],
      "metadata": {
        "colab": {
          "base_uri": "https://localhost:8080/"
        },
        "id": "d9TzGNTbogYT",
        "outputId": "ca24de17-2e52-4d7c-e776-60d632dfdb1e"
      },
      "execution_count": null,
      "outputs": [
        {
          "output_type": "stream",
          "name": "stdout",
          "text": [
            "Fraccion de estudiantes en el intervalo [9.7, 14.3]: 0.6827 o el 0.6827%\n"
          ]
        }
      ]
    },
    {
      "cell_type": "code",
      "source": [
        "#Alternativa:\n",
        "\n",
        "from scipy.stats import norm\n",
        "\n",
        "probinf = norm.cdf(liminf, loc=mean, scale=std)\n",
        "probsup = norm.cdf(limsup, loc=mean, scale=std)\n",
        "probb = probsup-probinf\n",
        "\n",
        "print(f\"Fraccion de estudiantes en el intervalo [{liminf}, {limsup}]: {probb:.4f}\")\n",
        "print(f\"Porcentaje: {probb * 100:.2f}%\")"
      ],
      "metadata": {
        "colab": {
          "base_uri": "https://localhost:8080/"
        },
        "id": "nXe_kpNxr60O",
        "outputId": "06c5cf0a-a533-4851-a083-0278f31215d8"
      },
      "execution_count": null,
      "outputs": [
        {
          "output_type": "stream",
          "name": "stdout",
          "text": [
            "Fraccion de estudiantes en el intervalo [9.7, 14.3]: 0.6827\n",
            "Porcentaje: 68.27%\n"
          ]
        }
      ]
    },
    {
      "cell_type": "markdown",
      "source": [
        "7.4 a 16.6 respiraciones por minuto:"
      ],
      "metadata": {
        "id": "0cMxo4OVtnAN"
      }
    },
    {
      "cell_type": "code",
      "source": [
        "inf =7.4\n",
        "sup=16.6\n",
        "\n",
        "pinf=norm.cdf(inf, loc=mean, scale=std)\n",
        "psup=norm.cdf(sup, loc=mean, scale=std)\n",
        "\n",
        "p = psup-pinf\n",
        "print(f'Fraccion de estudiantes en el intervalo [{inf}, {sup}]: {p:.4f}')\n",
        "print(f'En porcentaje: {p*100:.3f}%')"
      ],
      "metadata": {
        "colab": {
          "base_uri": "https://localhost:8080/"
        },
        "id": "wFsD_LQDtpkj",
        "outputId": "d1265e52-c841-4d10-fe2c-8ed1a46a03c1"
      },
      "execution_count": null,
      "outputs": [
        {
          "output_type": "stream",
          "name": "stdout",
          "text": [
            "Fraccion de estudiantes en el intervalo [7.4, 16.6]: 0.9545\n",
            "En porcentaje: 95.450%\n"
          ]
        }
      ]
    },
    {
      "cell_type": "markdown",
      "source": [
        "9.7 a 16.6 respiraciones por minuto:"
      ],
      "metadata": {
        "id": "L4uSM62Guumz"
      }
    },
    {
      "cell_type": "code",
      "source": [
        "linf=9.7\n",
        "lsup=16.6\n",
        "\n",
        "prinf=norm.cdf(linf, loc=mean, scale=std)\n",
        "prsup=norm.cdf(lsup, loc=mean, scale=std)\n",
        "\n",
        "pr = prsup-prinf\n",
        "\n",
        "print(f'Fraccion de estudiantes en el intervalo [{linf}, {lsup}]: {pr:.4f}')\n",
        "print(f'En porcentaje: {pr*100:.3f}%')"
      ],
      "metadata": {
        "colab": {
          "base_uri": "https://localhost:8080/"
        },
        "id": "M_Z9nuuNuvk0",
        "outputId": "ce53b41b-0467-46c8-e6bb-6dd80556a859"
      },
      "execution_count": null,
      "outputs": [
        {
          "output_type": "stream",
          "name": "stdout",
          "text": [
            "Fraccion de estudiantes en el intervalo [9.7, 16.6]: 0.8186\n",
            "En porcentaje: 81.859%\n"
          ]
        }
      ]
    },
    {
      "cell_type": "markdown",
      "source": [
        "Menos de 5.1 o más de 18.9 respiraciones por minuto"
      ],
      "metadata": {
        "id": "QHiXK45SxG7z"
      }
    },
    {
      "cell_type": "code",
      "source": [
        "liinf=5.1\n",
        "lisup=18.9\n",
        "\n",
        "proinf=norm.cdf(liinf, loc=mean, scale=std)\n",
        "prosup=norm.cdf(lisup, loc=mean, scale=std)\n",
        "\n",
        "pro=prosup-proinf\n",
        "\n",
        "print(f'Fraccion de estudiantes en el intervalo [{liinf}, {lisup}]: {pro:.4f}')\n",
        "print(f'En porcentaje: {pro*100:.3f}%')"
      ],
      "metadata": {
        "colab": {
          "base_uri": "https://localhost:8080/"
        },
        "id": "qvzhBFJ_xIt7",
        "outputId": "116a4c0b-51cb-4817-f497-9c9df0460818"
      },
      "execution_count": null,
      "outputs": [
        {
          "output_type": "stream",
          "name": "stdout",
          "text": [
            "Fraccion de estudiantes en el intervalo [5.1, 18.9]: 0.9973\n",
            "En porcentaje: 99.730%\n"
          ]
        }
      ]
    },
    {
      "cell_type": "markdown",
      "source": [
        "# **2**\n",
        "\n",
        "Se ha proyectado que el promedio y la desviación estándar del tiempo empleado en línea usando la Internet son, respectivamente, 14 y 17 horas por persona por año (muchos no usan la Internet en absoluto).\n",
        "\n",
        "¿Qué valor está exactamente a 1 desviación estándar debajo de la media?"
      ],
      "metadata": {
        "id": "ySw_66Gf-ULM"
      }
    },
    {
      "cell_type": "code",
      "source": [
        "media = 14\n",
        "std= 17\n",
        "\n",
        "#Valor a una Desviacion estandar debajo de la media:\n",
        "\n",
        "valor = media -std\n",
        "valor"
      ],
      "metadata": {
        "colab": {
          "base_uri": "https://localhost:8080/"
        },
        "id": "TelwSRtc6zJU",
        "outputId": "058ab9a6-d9a2-45f5-9313-3dc958d2c212"
      },
      "execution_count": null,
      "outputs": [
        {
          "output_type": "execute_result",
          "data": {
            "text/plain": [
              "-3"
            ]
          },
          "metadata": {},
          "execution_count": 30
        }
      ]
    },
    {
      "cell_type": "markdown",
      "source": [
        "El tiempo en linea no puede ser negativo por lo que podriamos pensar que la distribucion puede ser asimetrica a causa de los usuarios que usan internet.\n",
        "\n",
        "El valor -3 es teorico y refleja la posicion relativa en la distribucion, pero carece de sentido practico."
      ],
      "metadata": {
        "id": "1AWT85-V7OXU"
      }
    },
    {
      "cell_type": "markdown",
      "source": [
        "Si el tiempo empleado en línea usando la Internet está normalmente distribuido en forma aproximada, ¿qué proporción de los usuarios pasa un tiempo en línea que es menor al valor hallado en el inciso a?\n"
      ],
      "metadata": {
        "id": "9uVwEMri8JBQ"
      }
    },
    {
      "cell_type": "code",
      "source": [
        "#Esto es, si el tiempo en linea sigue una distribucion normal aproximada,\n",
        "#¿que proporcion de los usuarios pasa menos de -3 horas en linea al año?\n",
        "\n",
        "#Fisicamente el tiempo en linea no puede ser negativo, pero en la distribucion\n",
        "#normal teorica este valor existe:\n",
        "\n",
        "#Podemos calcular los valores Z para los limites del intervalo:\n",
        "\n",
        "\n",
        "from scipy.stats import norm\n",
        "\n",
        "zminus3 = (valor - media)/std\n",
        "\n",
        "prop = norm.cdf(zminus3)\n",
        "\n",
        "print(f'Fraccion de usuarios que pasan menos de {valor} en linea: {prop:.4f} o el {prop*100:.2f}%.')"
      ],
      "metadata": {
        "colab": {
          "base_uri": "https://localhost:8080/"
        },
        "id": "Ilo6EHAZ8Pvb",
        "outputId": "495aa398-6ed5-40ec-9eaa-fe31edcef082"
      },
      "execution_count": null,
      "outputs": [
        {
          "output_type": "stream",
          "name": "stdout",
          "text": [
            "Fraccion de usuarios que pasan menos de -3 en linea: 0.1587 o el 15.87%.\n"
          ]
        }
      ]
    },
    {
      "cell_type": "code",
      "source": [
        "#Another way:\n",
        "\n",
        "from scipy.stats import norm\n",
        "\n",
        "probminus3 = norm.cdf(valor, loc=media, scale=std)\n",
        "\n",
        "print(f'Fraccion de usuarios que pasan menos de {valor} en linea: {probminus3:.4f} o el {probminus3*100:.2f}%.')"
      ],
      "metadata": {
        "colab": {
          "base_uri": "https://localhost:8080/"
        },
        "id": "qLRZeyIxAktf",
        "outputId": "85469a1d-44e9-4440-ac67-a30d560c58a9"
      },
      "execution_count": null,
      "outputs": [
        {
          "output_type": "stream",
          "name": "stdout",
          "text": [
            "Fraccion de usuarios que pasan menos de -3 en linea: 0.1587 o el 15.87%.\n"
          ]
        }
      ]
    },
    {
      "cell_type": "markdown",
      "source": [
        "Nota: En la realidad nadie gasta un tiempo negativo en internet, pero la distribucion normal asigna una probabilidad a valores imposibles."
      ],
      "metadata": {
        "id": "692OnrHLB8zz"
      }
    },
    {
      "cell_type": "markdown",
      "source": [
        "¿El tiempo empleado en línea, usando la Internet, está normalmente distribuido en forma aproximada? ¿Por qué?"
      ],
      "metadata": {
        "id": "giKM9jYIBskr"
      }
    },
    {
      "cell_type": "markdown",
      "source": [
        "No, la desviacion estandar debajo de la media nos dio un valor negativo, esto ocurre porque los datos no son perfectamente normales, hay una asimetria debido a las personas que no usan el internet.\n",
        "\n",
        "Muchos usuarios no usan el internet o lo usan poco (personas mayores, zonas sin acceso), mientras que otros estan extremadamente activos (teletrabajadores, gamers...)\n",
        "\n",
        "La desviacion estandar es mayor que la media"
      ],
      "metadata": {
        "id": "8OQxiqkyCdU9"
      }
    },
    {
      "cell_type": "markdown",
      "source": [
        "# **3**"
      ],
      "metadata": {
        "id": "GNUkr5pBRinj"
      }
    },
    {
      "cell_type": "code",
      "source": [
        "hola = [8.9, 12.4, 8.6, 11.3, 9.2, 8.8, 35.1, 6.2, 7.0, 7.1, 11.8, 10.7, 7.6,\n",
        "        9.1, 9.2, 8.2, 9.0, 8.7, 9.1, 10.9, 10.3, 9.6, 7.8, 11.5, 9.3, 7.9,\n",
        "        8.8, 8.8, 12.7, 8.4, 7.8, 5.7, 10.5, 10.5, 9.6, 8.9, 10.2, 10.3,\n",
        "        7.7, 10.6, 8.3, 8.8, 9.5, 8.8, 9.4]\n",
        "\n",
        "import numpy as np\n",
        "\n",
        "np.mean(hola), np.std(hola)\n"
      ],
      "metadata": {
        "colab": {
          "base_uri": "https://localhost:8080/"
        },
        "id": "OtsdPM7Z-apt",
        "outputId": "4a8bd94e-a9b6-433c-bb4e-237528967930"
      },
      "execution_count": null,
      "outputs": [
        {
          "output_type": "execute_result",
          "data": {
            "text/plain": [
              "(np.float64(9.791111111111112), np.float64(4.091770723576896))"
            ]
          },
          "metadata": {},
          "execution_count": 1
        }
      ]
    },
    {
      "cell_type": "code",
      "source": [
        "#Utilizaremos una expresion distinta para calcular la varianza y luego\n",
        "#le sacaremos la raiz para encontrar la desviacion estandar:\n",
        "\n",
        "def cua(x):\n",
        "  return[i**2 for i in x]\n",
        "\n",
        "\n",
        "a = cua(hola)\n",
        "print(a)"
      ],
      "metadata": {
        "colab": {
          "base_uri": "https://localhost:8080/"
        },
        "id": "P8H8EDsfEMO0",
        "outputId": "ebef5c0e-0bf2-4805-db48-5d122e9dbf4e"
      },
      "execution_count": null,
      "outputs": [
        {
          "output_type": "stream",
          "name": "stdout",
          "text": [
            "[79.21000000000001, 153.76000000000002, 73.96, 127.69000000000001, 84.63999999999999, 77.44000000000001, 1232.01, 38.440000000000005, 49.0, 50.41, 139.24, 114.48999999999998, 57.76, 82.80999999999999, 84.63999999999999, 67.24, 81.0, 75.68999999999998, 82.80999999999999, 118.81, 106.09000000000002, 92.16, 60.839999999999996, 132.25, 86.49000000000001, 62.410000000000004, 77.44000000000001, 77.44000000000001, 161.29, 70.56, 60.839999999999996, 32.49, 110.25, 110.25, 92.16, 79.21000000000001, 104.03999999999999, 106.09000000000002, 59.290000000000006, 112.36, 68.89000000000001, 77.44000000000001, 90.25, 77.44000000000001, 88.36000000000001]\n"
          ]
        }
      ]
    },
    {
      "cell_type": "code",
      "source": [
        "#forma eficiente:\n",
        "\n",
        "cuar = list(map(lambda x: x**2, hola))\n",
        "\n",
        "#La función map() en Python aplica una función dada a cada elemento\n",
        "# de un iterable (como una lista) y devuelve un nuevo iterable con\n",
        "#los resultados. Es una forma concisa de realizar la misma operación\n",
        "#en todos los elementos de un objeto iterable,\n",
        "#evitando la necesidad de bucles for"
      ],
      "metadata": {
        "id": "dh3_dRwrOvt8"
      },
      "execution_count": null,
      "outputs": []
    },
    {
      "cell_type": "code",
      "source": [
        "b = sum(hola)"
      ],
      "metadata": {
        "id": "l53GF1HTPGHm"
      },
      "execution_count": null,
      "outputs": []
    },
    {
      "cell_type": "code",
      "source": [
        "var = (1/(len(hola)-1))*(sum(a) - (1/len(hola))* b**2)\n",
        "var"
      ],
      "metadata": {
        "id": "rMCX7tl-OXpK",
        "colab": {
          "base_uri": "https://localhost:8080/"
        },
        "outputId": "c1cba300-437f-4560-9734-eaf12da30b65"
      },
      "execution_count": null,
      "outputs": [
        {
          "output_type": "execute_result",
          "data": {
            "text/plain": [
              "17.123101010101003"
            ]
          },
          "metadata": {},
          "execution_count": 20
        }
      ]
    },
    {
      "cell_type": "code",
      "source": [
        "st = np.sqrt(var)\n",
        "st"
      ],
      "metadata": {
        "colab": {
          "base_uri": "https://localhost:8080/"
        },
        "id": "a_1B-j2IstDd",
        "outputId": "bbf152dc-6246-48ef-acd1-df5696222781"
      },
      "execution_count": null,
      "outputs": [
        {
          "output_type": "execute_result",
          "data": {
            "text/plain": [
              "np.float64(4.138006888599994)"
            ]
          },
          "metadata": {},
          "execution_count": 29
        }
      ]
    },
    {
      "cell_type": "code",
      "source": [
        "#Verificamos:\n",
        "import statistics\n",
        "\n",
        "statistics.stdev(hola)"
      ],
      "metadata": {
        "colab": {
          "base_uri": "https://localhost:8080/"
        },
        "id": "zD0bhjp9rvTk",
        "outputId": "a1b7968e-c2b6-4bcf-cd84-6a1f1fbec9aa"
      },
      "execution_count": null,
      "outputs": [
        {
          "output_type": "execute_result",
          "data": {
            "text/plain": [
              "4.138006888599995"
            ]
          },
          "metadata": {},
          "execution_count": 27
        }
      ]
    },
    {
      "cell_type": "markdown",
      "source": [
        "# **4**\n",
        "\n",
        "Dados los siguientes datos calcule la media la desviacion estandar y las proporcion que caen en los intervalos de 1,2 y 3 desviaciones estandar desde la media."
      ],
      "metadata": {
        "id": "WisLb8xtSaG4"
      }
    },
    {
      "cell_type": "code",
      "source": [
        "import pandas as pd\n",
        "\n",
        "ot = [11.88, 6.27, 5.49, 4.81, 4.40, 3.78, 3.44, 3.11, 2.88, 2.68, 7.99,\n",
        "       6.07, 5.26, 4.79, 4.05, 3.69, 3.36, 3.03, 2.74, 2.63, 7.15, 5.98,\n",
        "       5.07, 4.55, 3.94, 3.62, 3.26, 2.99, 2.74, 2.62, 7.13, 5.91, 4.94,\n",
        "       4.43, 3.93, 3.48, 3.20, 2.89, 2.69, 2.61]\n",
        "\n",
        "otc = pd.DataFrame(ot, columns=['porc_circulacion'])\n",
        "otc.head()"
      ],
      "metadata": {
        "colab": {
          "base_uri": "https://localhost:8080/",
          "height": 206
        },
        "id": "HMo59Szs6NlR",
        "outputId": "d5c0adf9-515b-4523-c23b-88fbf8f64e13"
      },
      "execution_count": null,
      "outputs": [
        {
          "output_type": "execute_result",
          "data": {
            "text/plain": [
              "   porc_circulacion\n",
              "0             11.88\n",
              "1              6.27\n",
              "2              5.49\n",
              "3              4.81\n",
              "4              4.40"
            ],
            "text/html": [
              "\n",
              "  <div id=\"df-b2c549e9-edaf-49fe-93a4-f9c92681c302\" class=\"colab-df-container\">\n",
              "    <div>\n",
              "<style scoped>\n",
              "    .dataframe tbody tr th:only-of-type {\n",
              "        vertical-align: middle;\n",
              "    }\n",
              "\n",
              "    .dataframe tbody tr th {\n",
              "        vertical-align: top;\n",
              "    }\n",
              "\n",
              "    .dataframe thead th {\n",
              "        text-align: right;\n",
              "    }\n",
              "</style>\n",
              "<table border=\"1\" class=\"dataframe\">\n",
              "  <thead>\n",
              "    <tr style=\"text-align: right;\">\n",
              "      <th></th>\n",
              "      <th>porc_circulacion</th>\n",
              "    </tr>\n",
              "  </thead>\n",
              "  <tbody>\n",
              "    <tr>\n",
              "      <th>0</th>\n",
              "      <td>11.88</td>\n",
              "    </tr>\n",
              "    <tr>\n",
              "      <th>1</th>\n",
              "      <td>6.27</td>\n",
              "    </tr>\n",
              "    <tr>\n",
              "      <th>2</th>\n",
              "      <td>5.49</td>\n",
              "    </tr>\n",
              "    <tr>\n",
              "      <th>3</th>\n",
              "      <td>4.81</td>\n",
              "    </tr>\n",
              "    <tr>\n",
              "      <th>4</th>\n",
              "      <td>4.40</td>\n",
              "    </tr>\n",
              "  </tbody>\n",
              "</table>\n",
              "</div>\n",
              "    <div class=\"colab-df-buttons\">\n",
              "\n",
              "  <div class=\"colab-df-container\">\n",
              "    <button class=\"colab-df-convert\" onclick=\"convertToInteractive('df-b2c549e9-edaf-49fe-93a4-f9c92681c302')\"\n",
              "            title=\"Convert this dataframe to an interactive table.\"\n",
              "            style=\"display:none;\">\n",
              "\n",
              "  <svg xmlns=\"http://www.w3.org/2000/svg\" height=\"24px\" viewBox=\"0 -960 960 960\">\n",
              "    <path d=\"M120-120v-720h720v720H120Zm60-500h600v-160H180v160Zm220 220h160v-160H400v160Zm0 220h160v-160H400v160ZM180-400h160v-160H180v160Zm440 0h160v-160H620v160ZM180-180h160v-160H180v160Zm440 0h160v-160H620v160Z\"/>\n",
              "  </svg>\n",
              "    </button>\n",
              "\n",
              "  <style>\n",
              "    .colab-df-container {\n",
              "      display:flex;\n",
              "      gap: 12px;\n",
              "    }\n",
              "\n",
              "    .colab-df-convert {\n",
              "      background-color: #E8F0FE;\n",
              "      border: none;\n",
              "      border-radius: 50%;\n",
              "      cursor: pointer;\n",
              "      display: none;\n",
              "      fill: #1967D2;\n",
              "      height: 32px;\n",
              "      padding: 0 0 0 0;\n",
              "      width: 32px;\n",
              "    }\n",
              "\n",
              "    .colab-df-convert:hover {\n",
              "      background-color: #E2EBFA;\n",
              "      box-shadow: 0px 1px 2px rgba(60, 64, 67, 0.3), 0px 1px 3px 1px rgba(60, 64, 67, 0.15);\n",
              "      fill: #174EA6;\n",
              "    }\n",
              "\n",
              "    .colab-df-buttons div {\n",
              "      margin-bottom: 4px;\n",
              "    }\n",
              "\n",
              "    [theme=dark] .colab-df-convert {\n",
              "      background-color: #3B4455;\n",
              "      fill: #D2E3FC;\n",
              "    }\n",
              "\n",
              "    [theme=dark] .colab-df-convert:hover {\n",
              "      background-color: #434B5C;\n",
              "      box-shadow: 0px 1px 3px 1px rgba(0, 0, 0, 0.15);\n",
              "      filter: drop-shadow(0px 1px 2px rgba(0, 0, 0, 0.3));\n",
              "      fill: #FFFFFF;\n",
              "    }\n",
              "  </style>\n",
              "\n",
              "    <script>\n",
              "      const buttonEl =\n",
              "        document.querySelector('#df-b2c549e9-edaf-49fe-93a4-f9c92681c302 button.colab-df-convert');\n",
              "      buttonEl.style.display =\n",
              "        google.colab.kernel.accessAllowed ? 'block' : 'none';\n",
              "\n",
              "      async function convertToInteractive(key) {\n",
              "        const element = document.querySelector('#df-b2c549e9-edaf-49fe-93a4-f9c92681c302');\n",
              "        const dataTable =\n",
              "          await google.colab.kernel.invokeFunction('convertToInteractive',\n",
              "                                                    [key], {});\n",
              "        if (!dataTable) return;\n",
              "\n",
              "        const docLinkHtml = 'Like what you see? Visit the ' +\n",
              "          '<a target=\"_blank\" href=https://colab.research.google.com/notebooks/data_table.ipynb>data table notebook</a>'\n",
              "          + ' to learn more about interactive tables.';\n",
              "        element.innerHTML = '';\n",
              "        dataTable['output_type'] = 'display_data';\n",
              "        await google.colab.output.renderOutput(dataTable, element);\n",
              "        const docLink = document.createElement('div');\n",
              "        docLink.innerHTML = docLinkHtml;\n",
              "        element.appendChild(docLink);\n",
              "      }\n",
              "    </script>\n",
              "  </div>\n",
              "\n",
              "\n",
              "    <div id=\"df-d4af7b68-2d56-4b50-9edc-45b8e5954d87\">\n",
              "      <button class=\"colab-df-quickchart\" onclick=\"quickchart('df-d4af7b68-2d56-4b50-9edc-45b8e5954d87')\"\n",
              "                title=\"Suggest charts\"\n",
              "                style=\"display:none;\">\n",
              "\n",
              "<svg xmlns=\"http://www.w3.org/2000/svg\" height=\"24px\"viewBox=\"0 0 24 24\"\n",
              "     width=\"24px\">\n",
              "    <g>\n",
              "        <path d=\"M19 3H5c-1.1 0-2 .9-2 2v14c0 1.1.9 2 2 2h14c1.1 0 2-.9 2-2V5c0-1.1-.9-2-2-2zM9 17H7v-7h2v7zm4 0h-2V7h2v10zm4 0h-2v-4h2v4z\"/>\n",
              "    </g>\n",
              "</svg>\n",
              "      </button>\n",
              "\n",
              "<style>\n",
              "  .colab-df-quickchart {\n",
              "      --bg-color: #E8F0FE;\n",
              "      --fill-color: #1967D2;\n",
              "      --hover-bg-color: #E2EBFA;\n",
              "      --hover-fill-color: #174EA6;\n",
              "      --disabled-fill-color: #AAA;\n",
              "      --disabled-bg-color: #DDD;\n",
              "  }\n",
              "\n",
              "  [theme=dark] .colab-df-quickchart {\n",
              "      --bg-color: #3B4455;\n",
              "      --fill-color: #D2E3FC;\n",
              "      --hover-bg-color: #434B5C;\n",
              "      --hover-fill-color: #FFFFFF;\n",
              "      --disabled-bg-color: #3B4455;\n",
              "      --disabled-fill-color: #666;\n",
              "  }\n",
              "\n",
              "  .colab-df-quickchart {\n",
              "    background-color: var(--bg-color);\n",
              "    border: none;\n",
              "    border-radius: 50%;\n",
              "    cursor: pointer;\n",
              "    display: none;\n",
              "    fill: var(--fill-color);\n",
              "    height: 32px;\n",
              "    padding: 0;\n",
              "    width: 32px;\n",
              "  }\n",
              "\n",
              "  .colab-df-quickchart:hover {\n",
              "    background-color: var(--hover-bg-color);\n",
              "    box-shadow: 0 1px 2px rgba(60, 64, 67, 0.3), 0 1px 3px 1px rgba(60, 64, 67, 0.15);\n",
              "    fill: var(--button-hover-fill-color);\n",
              "  }\n",
              "\n",
              "  .colab-df-quickchart-complete:disabled,\n",
              "  .colab-df-quickchart-complete:disabled:hover {\n",
              "    background-color: var(--disabled-bg-color);\n",
              "    fill: var(--disabled-fill-color);\n",
              "    box-shadow: none;\n",
              "  }\n",
              "\n",
              "  .colab-df-spinner {\n",
              "    border: 2px solid var(--fill-color);\n",
              "    border-color: transparent;\n",
              "    border-bottom-color: var(--fill-color);\n",
              "    animation:\n",
              "      spin 1s steps(1) infinite;\n",
              "  }\n",
              "\n",
              "  @keyframes spin {\n",
              "    0% {\n",
              "      border-color: transparent;\n",
              "      border-bottom-color: var(--fill-color);\n",
              "      border-left-color: var(--fill-color);\n",
              "    }\n",
              "    20% {\n",
              "      border-color: transparent;\n",
              "      border-left-color: var(--fill-color);\n",
              "      border-top-color: var(--fill-color);\n",
              "    }\n",
              "    30% {\n",
              "      border-color: transparent;\n",
              "      border-left-color: var(--fill-color);\n",
              "      border-top-color: var(--fill-color);\n",
              "      border-right-color: var(--fill-color);\n",
              "    }\n",
              "    40% {\n",
              "      border-color: transparent;\n",
              "      border-right-color: var(--fill-color);\n",
              "      border-top-color: var(--fill-color);\n",
              "    }\n",
              "    60% {\n",
              "      border-color: transparent;\n",
              "      border-right-color: var(--fill-color);\n",
              "    }\n",
              "    80% {\n",
              "      border-color: transparent;\n",
              "      border-right-color: var(--fill-color);\n",
              "      border-bottom-color: var(--fill-color);\n",
              "    }\n",
              "    90% {\n",
              "      border-color: transparent;\n",
              "      border-bottom-color: var(--fill-color);\n",
              "    }\n",
              "  }\n",
              "</style>\n",
              "\n",
              "      <script>\n",
              "        async function quickchart(key) {\n",
              "          const quickchartButtonEl =\n",
              "            document.querySelector('#' + key + ' button');\n",
              "          quickchartButtonEl.disabled = true;  // To prevent multiple clicks.\n",
              "          quickchartButtonEl.classList.add('colab-df-spinner');\n",
              "          try {\n",
              "            const charts = await google.colab.kernel.invokeFunction(\n",
              "                'suggestCharts', [key], {});\n",
              "          } catch (error) {\n",
              "            console.error('Error during call to suggestCharts:', error);\n",
              "          }\n",
              "          quickchartButtonEl.classList.remove('colab-df-spinner');\n",
              "          quickchartButtonEl.classList.add('colab-df-quickchart-complete');\n",
              "        }\n",
              "        (() => {\n",
              "          let quickchartButtonEl =\n",
              "            document.querySelector('#df-d4af7b68-2d56-4b50-9edc-45b8e5954d87 button');\n",
              "          quickchartButtonEl.style.display =\n",
              "            google.colab.kernel.accessAllowed ? 'block' : 'none';\n",
              "        })();\n",
              "      </script>\n",
              "    </div>\n",
              "\n",
              "    </div>\n",
              "  </div>\n"
            ],
            "application/vnd.google.colaboratory.intrinsic+json": {
              "type": "dataframe",
              "variable_name": "otc",
              "summary": "{\n  \"name\": \"otc\",\n  \"rows\": 40,\n  \"fields\": [\n    {\n      \"column\": \"porc_circulacion\",\n      \"properties\": {\n        \"dtype\": \"number\",\n        \"std\": 1.8713839661378815,\n        \"min\": 2.61,\n        \"max\": 11.88,\n        \"num_unique_values\": 39,\n        \"samples\": [\n          3.93,\n          2.89,\n          4.4\n        ],\n        \"semantic_type\": \"\",\n        \"description\": \"\"\n      }\n    }\n  ]\n}"
            }
          },
          "metadata": {},
          "execution_count": 1
        }
      ]
    },
    {
      "cell_type": "code",
      "source": [
        "#Media\n",
        "\n",
        "\n",
        "mediaotc = otc.mean()\n",
        "mediaotc"
      ],
      "metadata": {
        "colab": {
          "base_uri": "https://localhost:8080/",
          "height": 115
        },
        "id": "Wul2Ek1YuwEd",
        "outputId": "8dd33223-8415-4883-bb72-0366403e49d3"
      },
      "execution_count": null,
      "outputs": [
        {
          "output_type": "execute_result",
          "data": {
            "text/plain": [
              "porc_circulacion    4.387\n",
              "dtype: float64"
            ],
            "text/html": [
              "<div>\n",
              "<style scoped>\n",
              "    .dataframe tbody tr th:only-of-type {\n",
              "        vertical-align: middle;\n",
              "    }\n",
              "\n",
              "    .dataframe tbody tr th {\n",
              "        vertical-align: top;\n",
              "    }\n",
              "\n",
              "    .dataframe thead th {\n",
              "        text-align: right;\n",
              "    }\n",
              "</style>\n",
              "<table border=\"1\" class=\"dataframe\">\n",
              "  <thead>\n",
              "    <tr style=\"text-align: right;\">\n",
              "      <th></th>\n",
              "      <th>0</th>\n",
              "    </tr>\n",
              "  </thead>\n",
              "  <tbody>\n",
              "    <tr>\n",
              "      <th>porc_circulacion</th>\n",
              "      <td>4.387</td>\n",
              "    </tr>\n",
              "  </tbody>\n",
              "</table>\n",
              "</div><br><label><b>dtype:</b> float64</label>"
            ]
          },
          "metadata": {},
          "execution_count": 3
        }
      ]
    },
    {
      "cell_type": "code",
      "source": [
        "#Desviacion estandar:\n",
        "\n",
        "stdotc = otc.std()\n",
        "stdotc"
      ],
      "metadata": {
        "colab": {
          "base_uri": "https://localhost:8080/",
          "height": 115
        },
        "id": "iV6C46P8vTgv",
        "outputId": "6dc12d2f-ac56-4983-9fa2-de9eca584791"
      },
      "execution_count": null,
      "outputs": [
        {
          "output_type": "execute_result",
          "data": {
            "text/plain": [
              "porc_circulacion    1.871384\n",
              "dtype: float64"
            ],
            "text/html": [
              "<div>\n",
              "<style scoped>\n",
              "    .dataframe tbody tr th:only-of-type {\n",
              "        vertical-align: middle;\n",
              "    }\n",
              "\n",
              "    .dataframe tbody tr th {\n",
              "        vertical-align: top;\n",
              "    }\n",
              "\n",
              "    .dataframe thead th {\n",
              "        text-align: right;\n",
              "    }\n",
              "</style>\n",
              "<table border=\"1\" class=\"dataframe\">\n",
              "  <thead>\n",
              "    <tr style=\"text-align: right;\">\n",
              "      <th></th>\n",
              "      <th>0</th>\n",
              "    </tr>\n",
              "  </thead>\n",
              "  <tbody>\n",
              "    <tr>\n",
              "      <th>porc_circulacion</th>\n",
              "      <td>1.871384</td>\n",
              "    </tr>\n",
              "  </tbody>\n",
              "</table>\n",
              "</div><br><label><b>dtype:</b> float64</label>"
            ]
          },
          "metadata": {},
          "execution_count": 4
        }
      ]
    },
    {
      "cell_type": "code",
      "source": [
        "#Proporciones:\n",
        "from scipy.stats import norm\n",
        "\n",
        "valorsup1 = mediaotc + stdotc\n",
        "valormin1 = mediaotc - stdotc\n",
        "\n",
        "zsup1 = (valorsup1 - mediaotc) / stdotc\n",
        "zinf1 = (valormin1 - mediaotc) / stdotc\n",
        "\n",
        "prop1 = norm.cdf(zsup1)\n",
        "prop2 = norm.cdf(zinf1)\n",
        "\n",
        "proporcion1 = prop1 - prop2\n",
        "\n",
        "print('La proporcion correspondiente a una desviacion estandar desde la media es: ', proporcion1)"
      ],
      "metadata": {
        "colab": {
          "base_uri": "https://localhost:8080/"
        },
        "id": "eEj3_37OvdO4",
        "outputId": "1f5f0db2-2a39-43e7-8388-7a568796efae"
      },
      "execution_count": null,
      "outputs": [
        {
          "output_type": "stream",
          "name": "stdout",
          "text": [
            "La proporcion correspondiente a una proporcion estandar desde la media es:  [0.68268949]\n"
          ]
        }
      ]
    },
    {
      "cell_type": "code",
      "source": [
        "valorsup11 = mediaotc + stdotc\n",
        "valormin11 = mediaotc - stdotc\n",
        "\n",
        "probsup1 = norm.cdf(valorsup11, loc = mediaotc, scale=stdotc)\n",
        "probinf1 = norm.cdf(valormin11, loc=mediaotc, scale=stdotc)\n",
        "\n",
        "proporcion11 = probsup1 - probinf1\n",
        "\n",
        "valorsup2 = mediaotc+2*stdotc\n",
        "valorinf2 = mediaotc-2*stdotc\n",
        "\n",
        "probsub2 = norm.cdf(valorsup2, loc=mediaotc, scale=stdotc)\n",
        "probinf2 = norm.cdf(valorinf2, loc=mediaotc, scale=stdotc)\n",
        "\n",
        "proporcion2 = probsub2-probinf2\n",
        "\n",
        "valorsup3 = mediaotc+3*stdotc\n",
        "valorinf3=mediaotc-3*stdotc\n",
        "\n",
        "probsup3 = norm.cdf(valorsup3, loc = mediaotc, scale=stdotc)\n",
        "probinf3 = norm.cdf(valorinf3, loc=mediaotc, scale=stdotc)\n",
        "\n",
        "proporcion3 = probsup3-probinf3\n",
        "\n",
        "print('La proporcion correspondiente a una desviacion estandar desde la media es: ', proporcion11)\n",
        "\n",
        "print('La proporcion correspondiente a dos desviaciones estandar desde la media es: ', proporcion2)\n",
        "\n",
        "print('La proporcion correspondiente a tres desviaciones estandar desde la media es: ', proporcion3)"
      ],
      "metadata": {
        "colab": {
          "base_uri": "https://localhost:8080/"
        },
        "id": "Y2AASIY8z_iY",
        "outputId": "d634cc53-80ca-4664-872e-99624340dc69"
      },
      "execution_count": null,
      "outputs": [
        {
          "output_type": "stream",
          "name": "stdout",
          "text": [
            "La proporcion correspondiente a una desviacion estandar desde la media es:  [0.68268949]\n",
            "La proporcion correspondiente a dos desviaciones estandar desde la media es:  [0.95449974]\n",
            "La proporcion correspondiente a tres desviaciones estandar desde la media es:  [0.9973002]\n"
          ]
        }
      ]
    },
    {
      "cell_type": "markdown",
      "source": [
        "# **5**\n",
        "\n",
        "En el Ejercicio anterior hay un valor extremadamente grande: 11.88. Elimine este valor y calcule la media y la desviacion estandar para las restantes 39 observaciones. Repite lo mismo que en el ejercicio anterior."
      ],
      "metadata": {
        "id": "3T_O1jwc5szS"
      }
    },
    {
      "cell_type": "code",
      "source": [
        "mb = otc['porc_circulacion'] == 11.88\n",
        "\n",
        "q = otc[mb].index\n",
        "\n",
        "otc = otc.drop(q)\n",
        "otc"
      ],
      "metadata": {
        "colab": {
          "base_uri": "https://localhost:8080/",
          "height": 1000
        },
        "id": "ETH0kCpt59q3",
        "outputId": "6d402b91-cab5-449a-b472-e0637b941dd5"
      },
      "execution_count": null,
      "outputs": [
        {
          "output_type": "execute_result",
          "data": {
            "text/plain": [
              "    porc_circulacion\n",
              "1               6.27\n",
              "2               5.49\n",
              "3               4.81\n",
              "4               4.40\n",
              "5               3.78\n",
              "6               3.44\n",
              "7               3.11\n",
              "8               2.88\n",
              "9               2.68\n",
              "10              7.99\n",
              "11              6.07\n",
              "12              5.26\n",
              "13              4.79\n",
              "14              4.05\n",
              "15              3.69\n",
              "16              3.36\n",
              "17              3.03\n",
              "18              2.74\n",
              "19              2.63\n",
              "20              7.15\n",
              "21              5.98\n",
              "22              5.07\n",
              "23              4.55\n",
              "24              3.94\n",
              "25              3.62\n",
              "26              3.26\n",
              "27              2.99\n",
              "28              2.74\n",
              "29              2.62\n",
              "30              7.13\n",
              "31              5.91\n",
              "32              4.94\n",
              "33              4.43\n",
              "34              3.93\n",
              "35              3.48\n",
              "36              3.20\n",
              "37              2.89\n",
              "38              2.69\n",
              "39              2.61"
            ],
            "text/html": [
              "\n",
              "  <div id=\"df-0935b83a-1d98-4672-84c2-8862b25181c0\" class=\"colab-df-container\">\n",
              "    <div>\n",
              "<style scoped>\n",
              "    .dataframe tbody tr th:only-of-type {\n",
              "        vertical-align: middle;\n",
              "    }\n",
              "\n",
              "    .dataframe tbody tr th {\n",
              "        vertical-align: top;\n",
              "    }\n",
              "\n",
              "    .dataframe thead th {\n",
              "        text-align: right;\n",
              "    }\n",
              "</style>\n",
              "<table border=\"1\" class=\"dataframe\">\n",
              "  <thead>\n",
              "    <tr style=\"text-align: right;\">\n",
              "      <th></th>\n",
              "      <th>porc_circulacion</th>\n",
              "    </tr>\n",
              "  </thead>\n",
              "  <tbody>\n",
              "    <tr>\n",
              "      <th>1</th>\n",
              "      <td>6.27</td>\n",
              "    </tr>\n",
              "    <tr>\n",
              "      <th>2</th>\n",
              "      <td>5.49</td>\n",
              "    </tr>\n",
              "    <tr>\n",
              "      <th>3</th>\n",
              "      <td>4.81</td>\n",
              "    </tr>\n",
              "    <tr>\n",
              "      <th>4</th>\n",
              "      <td>4.40</td>\n",
              "    </tr>\n",
              "    <tr>\n",
              "      <th>5</th>\n",
              "      <td>3.78</td>\n",
              "    </tr>\n",
              "    <tr>\n",
              "      <th>6</th>\n",
              "      <td>3.44</td>\n",
              "    </tr>\n",
              "    <tr>\n",
              "      <th>7</th>\n",
              "      <td>3.11</td>\n",
              "    </tr>\n",
              "    <tr>\n",
              "      <th>8</th>\n",
              "      <td>2.88</td>\n",
              "    </tr>\n",
              "    <tr>\n",
              "      <th>9</th>\n",
              "      <td>2.68</td>\n",
              "    </tr>\n",
              "    <tr>\n",
              "      <th>10</th>\n",
              "      <td>7.99</td>\n",
              "    </tr>\n",
              "    <tr>\n",
              "      <th>11</th>\n",
              "      <td>6.07</td>\n",
              "    </tr>\n",
              "    <tr>\n",
              "      <th>12</th>\n",
              "      <td>5.26</td>\n",
              "    </tr>\n",
              "    <tr>\n",
              "      <th>13</th>\n",
              "      <td>4.79</td>\n",
              "    </tr>\n",
              "    <tr>\n",
              "      <th>14</th>\n",
              "      <td>4.05</td>\n",
              "    </tr>\n",
              "    <tr>\n",
              "      <th>15</th>\n",
              "      <td>3.69</td>\n",
              "    </tr>\n",
              "    <tr>\n",
              "      <th>16</th>\n",
              "      <td>3.36</td>\n",
              "    </tr>\n",
              "    <tr>\n",
              "      <th>17</th>\n",
              "      <td>3.03</td>\n",
              "    </tr>\n",
              "    <tr>\n",
              "      <th>18</th>\n",
              "      <td>2.74</td>\n",
              "    </tr>\n",
              "    <tr>\n",
              "      <th>19</th>\n",
              "      <td>2.63</td>\n",
              "    </tr>\n",
              "    <tr>\n",
              "      <th>20</th>\n",
              "      <td>7.15</td>\n",
              "    </tr>\n",
              "    <tr>\n",
              "      <th>21</th>\n",
              "      <td>5.98</td>\n",
              "    </tr>\n",
              "    <tr>\n",
              "      <th>22</th>\n",
              "      <td>5.07</td>\n",
              "    </tr>\n",
              "    <tr>\n",
              "      <th>23</th>\n",
              "      <td>4.55</td>\n",
              "    </tr>\n",
              "    <tr>\n",
              "      <th>24</th>\n",
              "      <td>3.94</td>\n",
              "    </tr>\n",
              "    <tr>\n",
              "      <th>25</th>\n",
              "      <td>3.62</td>\n",
              "    </tr>\n",
              "    <tr>\n",
              "      <th>26</th>\n",
              "      <td>3.26</td>\n",
              "    </tr>\n",
              "    <tr>\n",
              "      <th>27</th>\n",
              "      <td>2.99</td>\n",
              "    </tr>\n",
              "    <tr>\n",
              "      <th>28</th>\n",
              "      <td>2.74</td>\n",
              "    </tr>\n",
              "    <tr>\n",
              "      <th>29</th>\n",
              "      <td>2.62</td>\n",
              "    </tr>\n",
              "    <tr>\n",
              "      <th>30</th>\n",
              "      <td>7.13</td>\n",
              "    </tr>\n",
              "    <tr>\n",
              "      <th>31</th>\n",
              "      <td>5.91</td>\n",
              "    </tr>\n",
              "    <tr>\n",
              "      <th>32</th>\n",
              "      <td>4.94</td>\n",
              "    </tr>\n",
              "    <tr>\n",
              "      <th>33</th>\n",
              "      <td>4.43</td>\n",
              "    </tr>\n",
              "    <tr>\n",
              "      <th>34</th>\n",
              "      <td>3.93</td>\n",
              "    </tr>\n",
              "    <tr>\n",
              "      <th>35</th>\n",
              "      <td>3.48</td>\n",
              "    </tr>\n",
              "    <tr>\n",
              "      <th>36</th>\n",
              "      <td>3.20</td>\n",
              "    </tr>\n",
              "    <tr>\n",
              "      <th>37</th>\n",
              "      <td>2.89</td>\n",
              "    </tr>\n",
              "    <tr>\n",
              "      <th>38</th>\n",
              "      <td>2.69</td>\n",
              "    </tr>\n",
              "    <tr>\n",
              "      <th>39</th>\n",
              "      <td>2.61</td>\n",
              "    </tr>\n",
              "  </tbody>\n",
              "</table>\n",
              "</div>\n",
              "    <div class=\"colab-df-buttons\">\n",
              "\n",
              "  <div class=\"colab-df-container\">\n",
              "    <button class=\"colab-df-convert\" onclick=\"convertToInteractive('df-0935b83a-1d98-4672-84c2-8862b25181c0')\"\n",
              "            title=\"Convert this dataframe to an interactive table.\"\n",
              "            style=\"display:none;\">\n",
              "\n",
              "  <svg xmlns=\"http://www.w3.org/2000/svg\" height=\"24px\" viewBox=\"0 -960 960 960\">\n",
              "    <path d=\"M120-120v-720h720v720H120Zm60-500h600v-160H180v160Zm220 220h160v-160H400v160Zm0 220h160v-160H400v160ZM180-400h160v-160H180v160Zm440 0h160v-160H620v160ZM180-180h160v-160H180v160Zm440 0h160v-160H620v160Z\"/>\n",
              "  </svg>\n",
              "    </button>\n",
              "\n",
              "  <style>\n",
              "    .colab-df-container {\n",
              "      display:flex;\n",
              "      gap: 12px;\n",
              "    }\n",
              "\n",
              "    .colab-df-convert {\n",
              "      background-color: #E8F0FE;\n",
              "      border: none;\n",
              "      border-radius: 50%;\n",
              "      cursor: pointer;\n",
              "      display: none;\n",
              "      fill: #1967D2;\n",
              "      height: 32px;\n",
              "      padding: 0 0 0 0;\n",
              "      width: 32px;\n",
              "    }\n",
              "\n",
              "    .colab-df-convert:hover {\n",
              "      background-color: #E2EBFA;\n",
              "      box-shadow: 0px 1px 2px rgba(60, 64, 67, 0.3), 0px 1px 3px 1px rgba(60, 64, 67, 0.15);\n",
              "      fill: #174EA6;\n",
              "    }\n",
              "\n",
              "    .colab-df-buttons div {\n",
              "      margin-bottom: 4px;\n",
              "    }\n",
              "\n",
              "    [theme=dark] .colab-df-convert {\n",
              "      background-color: #3B4455;\n",
              "      fill: #D2E3FC;\n",
              "    }\n",
              "\n",
              "    [theme=dark] .colab-df-convert:hover {\n",
              "      background-color: #434B5C;\n",
              "      box-shadow: 0px 1px 3px 1px rgba(0, 0, 0, 0.15);\n",
              "      filter: drop-shadow(0px 1px 2px rgba(0, 0, 0, 0.3));\n",
              "      fill: #FFFFFF;\n",
              "    }\n",
              "  </style>\n",
              "\n",
              "    <script>\n",
              "      const buttonEl =\n",
              "        document.querySelector('#df-0935b83a-1d98-4672-84c2-8862b25181c0 button.colab-df-convert');\n",
              "      buttonEl.style.display =\n",
              "        google.colab.kernel.accessAllowed ? 'block' : 'none';\n",
              "\n",
              "      async function convertToInteractive(key) {\n",
              "        const element = document.querySelector('#df-0935b83a-1d98-4672-84c2-8862b25181c0');\n",
              "        const dataTable =\n",
              "          await google.colab.kernel.invokeFunction('convertToInteractive',\n",
              "                                                    [key], {});\n",
              "        if (!dataTable) return;\n",
              "\n",
              "        const docLinkHtml = 'Like what you see? Visit the ' +\n",
              "          '<a target=\"_blank\" href=https://colab.research.google.com/notebooks/data_table.ipynb>data table notebook</a>'\n",
              "          + ' to learn more about interactive tables.';\n",
              "        element.innerHTML = '';\n",
              "        dataTable['output_type'] = 'display_data';\n",
              "        await google.colab.output.renderOutput(dataTable, element);\n",
              "        const docLink = document.createElement('div');\n",
              "        docLink.innerHTML = docLinkHtml;\n",
              "        element.appendChild(docLink);\n",
              "      }\n",
              "    </script>\n",
              "  </div>\n",
              "\n",
              "\n",
              "    <div id=\"df-a8c35e92-c4a2-4d4d-a369-e6c4d2e4172f\">\n",
              "      <button class=\"colab-df-quickchart\" onclick=\"quickchart('df-a8c35e92-c4a2-4d4d-a369-e6c4d2e4172f')\"\n",
              "                title=\"Suggest charts\"\n",
              "                style=\"display:none;\">\n",
              "\n",
              "<svg xmlns=\"http://www.w3.org/2000/svg\" height=\"24px\"viewBox=\"0 0 24 24\"\n",
              "     width=\"24px\">\n",
              "    <g>\n",
              "        <path d=\"M19 3H5c-1.1 0-2 .9-2 2v14c0 1.1.9 2 2 2h14c1.1 0 2-.9 2-2V5c0-1.1-.9-2-2-2zM9 17H7v-7h2v7zm4 0h-2V7h2v10zm4 0h-2v-4h2v4z\"/>\n",
              "    </g>\n",
              "</svg>\n",
              "      </button>\n",
              "\n",
              "<style>\n",
              "  .colab-df-quickchart {\n",
              "      --bg-color: #E8F0FE;\n",
              "      --fill-color: #1967D2;\n",
              "      --hover-bg-color: #E2EBFA;\n",
              "      --hover-fill-color: #174EA6;\n",
              "      --disabled-fill-color: #AAA;\n",
              "      --disabled-bg-color: #DDD;\n",
              "  }\n",
              "\n",
              "  [theme=dark] .colab-df-quickchart {\n",
              "      --bg-color: #3B4455;\n",
              "      --fill-color: #D2E3FC;\n",
              "      --hover-bg-color: #434B5C;\n",
              "      --hover-fill-color: #FFFFFF;\n",
              "      --disabled-bg-color: #3B4455;\n",
              "      --disabled-fill-color: #666;\n",
              "  }\n",
              "\n",
              "  .colab-df-quickchart {\n",
              "    background-color: var(--bg-color);\n",
              "    border: none;\n",
              "    border-radius: 50%;\n",
              "    cursor: pointer;\n",
              "    display: none;\n",
              "    fill: var(--fill-color);\n",
              "    height: 32px;\n",
              "    padding: 0;\n",
              "    width: 32px;\n",
              "  }\n",
              "\n",
              "  .colab-df-quickchart:hover {\n",
              "    background-color: var(--hover-bg-color);\n",
              "    box-shadow: 0 1px 2px rgba(60, 64, 67, 0.3), 0 1px 3px 1px rgba(60, 64, 67, 0.15);\n",
              "    fill: var(--button-hover-fill-color);\n",
              "  }\n",
              "\n",
              "  .colab-df-quickchart-complete:disabled,\n",
              "  .colab-df-quickchart-complete:disabled:hover {\n",
              "    background-color: var(--disabled-bg-color);\n",
              "    fill: var(--disabled-fill-color);\n",
              "    box-shadow: none;\n",
              "  }\n",
              "\n",
              "  .colab-df-spinner {\n",
              "    border: 2px solid var(--fill-color);\n",
              "    border-color: transparent;\n",
              "    border-bottom-color: var(--fill-color);\n",
              "    animation:\n",
              "      spin 1s steps(1) infinite;\n",
              "  }\n",
              "\n",
              "  @keyframes spin {\n",
              "    0% {\n",
              "      border-color: transparent;\n",
              "      border-bottom-color: var(--fill-color);\n",
              "      border-left-color: var(--fill-color);\n",
              "    }\n",
              "    20% {\n",
              "      border-color: transparent;\n",
              "      border-left-color: var(--fill-color);\n",
              "      border-top-color: var(--fill-color);\n",
              "    }\n",
              "    30% {\n",
              "      border-color: transparent;\n",
              "      border-left-color: var(--fill-color);\n",
              "      border-top-color: var(--fill-color);\n",
              "      border-right-color: var(--fill-color);\n",
              "    }\n",
              "    40% {\n",
              "      border-color: transparent;\n",
              "      border-right-color: var(--fill-color);\n",
              "      border-top-color: var(--fill-color);\n",
              "    }\n",
              "    60% {\n",
              "      border-color: transparent;\n",
              "      border-right-color: var(--fill-color);\n",
              "    }\n",
              "    80% {\n",
              "      border-color: transparent;\n",
              "      border-right-color: var(--fill-color);\n",
              "      border-bottom-color: var(--fill-color);\n",
              "    }\n",
              "    90% {\n",
              "      border-color: transparent;\n",
              "      border-bottom-color: var(--fill-color);\n",
              "    }\n",
              "  }\n",
              "</style>\n",
              "\n",
              "      <script>\n",
              "        async function quickchart(key) {\n",
              "          const quickchartButtonEl =\n",
              "            document.querySelector('#' + key + ' button');\n",
              "          quickchartButtonEl.disabled = true;  // To prevent multiple clicks.\n",
              "          quickchartButtonEl.classList.add('colab-df-spinner');\n",
              "          try {\n",
              "            const charts = await google.colab.kernel.invokeFunction(\n",
              "                'suggestCharts', [key], {});\n",
              "          } catch (error) {\n",
              "            console.error('Error during call to suggestCharts:', error);\n",
              "          }\n",
              "          quickchartButtonEl.classList.remove('colab-df-spinner');\n",
              "          quickchartButtonEl.classList.add('colab-df-quickchart-complete');\n",
              "        }\n",
              "        (() => {\n",
              "          let quickchartButtonEl =\n",
              "            document.querySelector('#df-a8c35e92-c4a2-4d4d-a369-e6c4d2e4172f button');\n",
              "          quickchartButtonEl.style.display =\n",
              "            google.colab.kernel.accessAllowed ? 'block' : 'none';\n",
              "        })();\n",
              "      </script>\n",
              "    </div>\n",
              "\n",
              "  <div id=\"id_6fa61edc-fa83-4c14-8173-2d4781cef1d2\">\n",
              "    <style>\n",
              "      .colab-df-generate {\n",
              "        background-color: #E8F0FE;\n",
              "        border: none;\n",
              "        border-radius: 50%;\n",
              "        cursor: pointer;\n",
              "        display: none;\n",
              "        fill: #1967D2;\n",
              "        height: 32px;\n",
              "        padding: 0 0 0 0;\n",
              "        width: 32px;\n",
              "      }\n",
              "\n",
              "      .colab-df-generate:hover {\n",
              "        background-color: #E2EBFA;\n",
              "        box-shadow: 0px 1px 2px rgba(60, 64, 67, 0.3), 0px 1px 3px 1px rgba(60, 64, 67, 0.15);\n",
              "        fill: #174EA6;\n",
              "      }\n",
              "\n",
              "      [theme=dark] .colab-df-generate {\n",
              "        background-color: #3B4455;\n",
              "        fill: #D2E3FC;\n",
              "      }\n",
              "\n",
              "      [theme=dark] .colab-df-generate:hover {\n",
              "        background-color: #434B5C;\n",
              "        box-shadow: 0px 1px 3px 1px rgba(0, 0, 0, 0.15);\n",
              "        filter: drop-shadow(0px 1px 2px rgba(0, 0, 0, 0.3));\n",
              "        fill: #FFFFFF;\n",
              "      }\n",
              "    </style>\n",
              "    <button class=\"colab-df-generate\" onclick=\"generateWithVariable('otc')\"\n",
              "            title=\"Generate code using this dataframe.\"\n",
              "            style=\"display:none;\">\n",
              "\n",
              "  <svg xmlns=\"http://www.w3.org/2000/svg\" height=\"24px\"viewBox=\"0 0 24 24\"\n",
              "       width=\"24px\">\n",
              "    <path d=\"M7,19H8.4L18.45,9,17,7.55,7,17.6ZM5,21V16.75L18.45,3.32a2,2,0,0,1,2.83,0l1.4,1.43a1.91,1.91,0,0,1,.58,1.4,1.91,1.91,0,0,1-.58,1.4L9.25,21ZM18.45,9,17,7.55Zm-12,3A5.31,5.31,0,0,0,4.9,8.1,5.31,5.31,0,0,0,1,6.5,5.31,5.31,0,0,0,4.9,4.9,5.31,5.31,0,0,0,6.5,1,5.31,5.31,0,0,0,8.1,4.9,5.31,5.31,0,0,0,12,6.5,5.46,5.46,0,0,0,6.5,12Z\"/>\n",
              "  </svg>\n",
              "    </button>\n",
              "    <script>\n",
              "      (() => {\n",
              "      const buttonEl =\n",
              "        document.querySelector('#id_6fa61edc-fa83-4c14-8173-2d4781cef1d2 button.colab-df-generate');\n",
              "      buttonEl.style.display =\n",
              "        google.colab.kernel.accessAllowed ? 'block' : 'none';\n",
              "\n",
              "      buttonEl.onclick = () => {\n",
              "        google.colab.notebook.generateWithVariable('otc');\n",
              "      }\n",
              "      })();\n",
              "    </script>\n",
              "  </div>\n",
              "\n",
              "    </div>\n",
              "  </div>\n"
            ],
            "application/vnd.google.colaboratory.intrinsic+json": {
              "type": "dataframe",
              "variable_name": "otc",
              "summary": "{\n  \"name\": \"otc\",\n  \"rows\": 39,\n  \"fields\": [\n    {\n      \"column\": \"porc_circulacion\",\n      \"properties\": {\n        \"dtype\": \"number\",\n        \"std\": 1.4418224428878594,\n        \"min\": 2.61,\n        \"max\": 7.99,\n        \"num_unique_values\": 38,\n        \"samples\": [\n          3.48,\n          2.69,\n          3.78\n        ],\n        \"semantic_type\": \"\",\n        \"description\": \"\"\n      }\n    }\n  ]\n}"
            }
          },
          "metadata": {},
          "execution_count": 42
        }
      ]
    },
    {
      "cell_type": "code",
      "source": [
        "meano = otc.mean()\n",
        "meano"
      ],
      "metadata": {
        "colab": {
          "base_uri": "https://localhost:8080/",
          "height": 115
        },
        "id": "9bLr47NJ9Q6c",
        "outputId": "f3e46beb-1271-41f4-d179-a6445fe7377b"
      },
      "execution_count": null,
      "outputs": [
        {
          "output_type": "execute_result",
          "data": {
            "text/plain": [
              "porc_circulacion    4.194872\n",
              "dtype: float64"
            ],
            "text/html": [
              "<div>\n",
              "<style scoped>\n",
              "    .dataframe tbody tr th:only-of-type {\n",
              "        vertical-align: middle;\n",
              "    }\n",
              "\n",
              "    .dataframe tbody tr th {\n",
              "        vertical-align: top;\n",
              "    }\n",
              "\n",
              "    .dataframe thead th {\n",
              "        text-align: right;\n",
              "    }\n",
              "</style>\n",
              "<table border=\"1\" class=\"dataframe\">\n",
              "  <thead>\n",
              "    <tr style=\"text-align: right;\">\n",
              "      <th></th>\n",
              "      <th>0</th>\n",
              "    </tr>\n",
              "  </thead>\n",
              "  <tbody>\n",
              "    <tr>\n",
              "      <th>porc_circulacion</th>\n",
              "      <td>4.194872</td>\n",
              "    </tr>\n",
              "  </tbody>\n",
              "</table>\n",
              "</div><br><label><b>dtype:</b> float64</label>"
            ]
          },
          "metadata": {},
          "execution_count": 43
        }
      ]
    },
    {
      "cell_type": "code",
      "source": [
        "stdo = otc.std()\n",
        "stdo"
      ],
      "metadata": {
        "colab": {
          "base_uri": "https://localhost:8080/",
          "height": 115
        },
        "id": "_tDJaS9w9d50",
        "outputId": "52d7e58e-8d1e-41f0-8ba7-19394ed63e22"
      },
      "execution_count": null,
      "outputs": [
        {
          "output_type": "execute_result",
          "data": {
            "text/plain": [
              "porc_circulacion    1.441822\n",
              "dtype: float64"
            ],
            "text/html": [
              "<div>\n",
              "<style scoped>\n",
              "    .dataframe tbody tr th:only-of-type {\n",
              "        vertical-align: middle;\n",
              "    }\n",
              "\n",
              "    .dataframe tbody tr th {\n",
              "        vertical-align: top;\n",
              "    }\n",
              "\n",
              "    .dataframe thead th {\n",
              "        text-align: right;\n",
              "    }\n",
              "</style>\n",
              "<table border=\"1\" class=\"dataframe\">\n",
              "  <thead>\n",
              "    <tr style=\"text-align: right;\">\n",
              "      <th></th>\n",
              "      <th>0</th>\n",
              "    </tr>\n",
              "  </thead>\n",
              "  <tbody>\n",
              "    <tr>\n",
              "      <th>porc_circulacion</th>\n",
              "      <td>1.441822</td>\n",
              "    </tr>\n",
              "  </tbody>\n",
              "</table>\n",
              "</div><br><label><b>dtype:</b> float64</label>"
            ]
          },
          "metadata": {},
          "execution_count": 45
        }
      ]
    },
    {
      "cell_type": "code",
      "source": [
        "valorsupo1 = meano + stdo\n",
        "valormino1 = meano - stdo\n",
        "\n",
        "probsupo1 = norm.cdf(valorsupo1, loc = meano, scale=stdo)\n",
        "probinfo1 = norm.cdf(valormino1, loc=meano, scale=stdo)\n",
        "\n",
        "proporciono1 = probsupo1 - probinfo1\n",
        "\n",
        "valorsupo2 = meano+2*stdo\n",
        "valorinfo2 = meano-2*stdo\n",
        "\n",
        "probsubo2 = norm.cdf(valorsupo2, loc=meano, scale=stdo)\n",
        "probinfo2 = norm.cdf(valorinfo2, loc=meano, scale=stdo)\n",
        "\n",
        "proporciono2 = probsubo2-probinfo2\n",
        "\n",
        "valorsupo3 = meano+3*stdo\n",
        "valorinfo3=meano-3*stdo\n",
        "\n",
        "probsupo3 = norm.cdf(valorsupo3, loc = meano, scale=stdo)\n",
        "probinfo3 = norm.cdf(valorinfo3, loc=meano, scale=stdo)\n",
        "\n",
        "proporciono3 = probsupo3-probinfo3\n",
        "\n",
        "print('La proporcion correspondiente a una desviacion estandar desde la media eliminano 11.88 es: ', proporcion11)\n",
        "\n",
        "print('La proporcion correspondiente a dos desviaciones estandar desde la media eliminando 11.88 es: ', proporcion2)\n",
        "\n",
        "print('La proporcion correspondiente a tres desviaciones estandar desde la media eliminando 11.88 es: ', proporcion3)"
      ],
      "metadata": {
        "colab": {
          "base_uri": "https://localhost:8080/"
        },
        "id": "k3bmUq-69rz3",
        "outputId": "db8a93e4-20bb-4880-d9a3-c353a629d0f5"
      },
      "execution_count": null,
      "outputs": [
        {
          "output_type": "stream",
          "name": "stdout",
          "text": [
            "La proporcion correspondiente a una desviacion estandar desde la media eliminano 11.88 es:  [0.68268949]\n",
            "La proporcion correspondiente a dos desviaciones estandar desde la media eliminando 11.88 es:  [0.95449974]\n",
            "La proporcion correspondiente a tres desviaciones estandar desde la media eliminando 11.88 es:  [0.9973002]\n"
          ]
        }
      ]
    },
    {
      "cell_type": "markdown",
      "source": [
        "# **5**\n",
        "\n",
        "El rango de un conjunto de mediciones es la diferencia entre los valores máximo y mínimo. La regla empírica sugiere que la desviación estándar de un conjunto de mediciones puede ser casi aproximada en un cuarto de la amplitud (esto es, amplitud/4). Calcule esta aproximación a s para los conjuntos de datos:\n",
        "\n",
        "ot = [11.88, 6.27, 5.49, 4.81, 4.40, 3.78, 3.44, 3.11, 2.88, 2.68, 7.99,\n",
        "       6.07, 5.26, 4.79, 4.05, 3.69, 3.36, 3.03, 2.74, 2.63, 7.15, 5.98,\n",
        "       5.07, 4.55, 3.94, 3.62, 3.26, 2.99, 2.74, 2.62, 7.13, 5.91, 4.94,\n",
        "       4.43, 3.93, 3.48, 3.20, 2.89, 2.69, 2.61]\n",
        "\n",
        " Compare el resultado con el valor calculado real de s."
      ],
      "metadata": {
        "id": "1fDs5NmPZWFw"
      }
    },
    {
      "cell_type": "code",
      "source": [
        "#Datos:\n",
        "import pandas as pd\n",
        "\n",
        "ot = [11.88, 6.27, 5.49, 4.81, 4.40, 3.78, 3.44, 3.11, 2.88, 2.68, 7.99,\n",
        "       6.07, 5.26, 4.79, 4.05, 3.69, 3.36, 3.03, 2.74, 2.63, 7.15, 5.98,\n",
        "       5.07, 4.55, 3.94, 3.62, 3.26, 2.99, 2.74, 2.62, 7.13, 5.91, 4.94,\n",
        "       4.43, 3.93, 3.48, 3.20, 2.89, 2.69, 2.61]\n",
        "\n",
        "otc = pd.DataFrame(ot)"
      ],
      "metadata": {
        "id": "iG7Gno-qZddx"
      },
      "execution_count": null,
      "outputs": []
    },
    {
      "cell_type": "code",
      "source": [
        "#Encontrando valor maximo, minimo y el rango:\n",
        "\n",
        "rango = otc.max() - otc.min()\n",
        "rango"
      ],
      "metadata": {
        "colab": {
          "base_uri": "https://localhost:8080/",
          "height": 115
        },
        "id": "LHJFol_JZ5Bj",
        "outputId": "7fd69f6e-0038-4818-e9b3-c7047cf04d8b"
      },
      "execution_count": null,
      "outputs": [
        {
          "output_type": "execute_result",
          "data": {
            "text/plain": [
              "0    9.27\n",
              "dtype: float64"
            ],
            "text/html": [
              "<div>\n",
              "<style scoped>\n",
              "    .dataframe tbody tr th:only-of-type {\n",
              "        vertical-align: middle;\n",
              "    }\n",
              "\n",
              "    .dataframe tbody tr th {\n",
              "        vertical-align: top;\n",
              "    }\n",
              "\n",
              "    .dataframe thead th {\n",
              "        text-align: right;\n",
              "    }\n",
              "</style>\n",
              "<table border=\"1\" class=\"dataframe\">\n",
              "  <thead>\n",
              "    <tr style=\"text-align: right;\">\n",
              "      <th></th>\n",
              "      <th>0</th>\n",
              "    </tr>\n",
              "  </thead>\n",
              "  <tbody>\n",
              "    <tr>\n",
              "      <th>0</th>\n",
              "      <td>9.27</td>\n",
              "    </tr>\n",
              "  </tbody>\n",
              "</table>\n",
              "</div><br><label><b>dtype:</b> float64</label>"
            ]
          },
          "metadata": {},
          "execution_count": 3
        }
      ]
    },
    {
      "cell_type": "code",
      "source": [
        "#Calculando la desviacion estandar con la regla empirica:\n",
        "\n",
        "s_aprox = (rango)/4\n",
        "s_aprox"
      ],
      "metadata": {
        "colab": {
          "base_uri": "https://localhost:8080/",
          "height": 115
        },
        "id": "NuFDnIshaBOq",
        "outputId": "69f76489-924d-477e-9975-a1a8c3a05586"
      },
      "execution_count": null,
      "outputs": [
        {
          "output_type": "execute_result",
          "data": {
            "text/plain": [
              "0    2.3175\n",
              "dtype: float64"
            ],
            "text/html": [
              "<div>\n",
              "<style scoped>\n",
              "    .dataframe tbody tr th:only-of-type {\n",
              "        vertical-align: middle;\n",
              "    }\n",
              "\n",
              "    .dataframe tbody tr th {\n",
              "        vertical-align: top;\n",
              "    }\n",
              "\n",
              "    .dataframe thead th {\n",
              "        text-align: right;\n",
              "    }\n",
              "</style>\n",
              "<table border=\"1\" class=\"dataframe\">\n",
              "  <thead>\n",
              "    <tr style=\"text-align: right;\">\n",
              "      <th></th>\n",
              "      <th>0</th>\n",
              "    </tr>\n",
              "  </thead>\n",
              "  <tbody>\n",
              "    <tr>\n",
              "      <th>0</th>\n",
              "      <td>2.3175</td>\n",
              "    </tr>\n",
              "  </tbody>\n",
              "</table>\n",
              "</div><br><label><b>dtype:</b> float64</label>"
            ]
          },
          "metadata": {},
          "execution_count": 4
        }
      ]
    },
    {
      "cell_type": "code",
      "source": [
        "#Calculando la desviacion estandar real:\n",
        "\n",
        "s_real =otc.std()\n",
        "s_real"
      ],
      "metadata": {
        "colab": {
          "base_uri": "https://localhost:8080/",
          "height": 115
        },
        "id": "80uaHwYgaWSB",
        "outputId": "3ab39956-3b0c-474e-ea4a-b6a527e52ea3"
      },
      "execution_count": null,
      "outputs": [
        {
          "output_type": "execute_result",
          "data": {
            "text/plain": [
              "0    1.871384\n",
              "dtype: float64"
            ],
            "text/html": [
              "<div>\n",
              "<style scoped>\n",
              "    .dataframe tbody tr th:only-of-type {\n",
              "        vertical-align: middle;\n",
              "    }\n",
              "\n",
              "    .dataframe tbody tr th {\n",
              "        vertical-align: top;\n",
              "    }\n",
              "\n",
              "    .dataframe thead th {\n",
              "        text-align: right;\n",
              "    }\n",
              "</style>\n",
              "<table border=\"1\" class=\"dataframe\">\n",
              "  <thead>\n",
              "    <tr style=\"text-align: right;\">\n",
              "      <th></th>\n",
              "      <th>0</th>\n",
              "    </tr>\n",
              "  </thead>\n",
              "  <tbody>\n",
              "    <tr>\n",
              "      <th>0</th>\n",
              "      <td>1.871384</td>\n",
              "    </tr>\n",
              "  </tbody>\n",
              "</table>\n",
              "</div><br><label><b>dtype:</b> float64</label>"
            ]
          },
          "metadata": {},
          "execution_count": 5
        }
      ]
    },
    {
      "cell_type": "code",
      "source": [
        "# Compararando:\n",
        "\n",
        "print('Rango: ', rango)\n",
        "print('Aproximacion de s por la regla empirica: ', s_aprox)\n",
        "print('Desviacion estandar real: ',s_real)\n",
        "print('Diferencia: ', abs(s_aprox -s_real), 'o', abs((s_aprox-s_real)/s_real)*100, '% de sobreestimacion.)')"
      ],
      "metadata": {
        "colab": {
          "base_uri": "https://localhost:8080/"
        },
        "id": "goPMu6R9b3Os",
        "outputId": "ec0b8e6f-316c-4203-fe58-c7d72387e1fb"
      },
      "execution_count": null,
      "outputs": [
        {
          "output_type": "stream",
          "name": "stdout",
          "text": [
            "Rango:  0    9.27\n",
            "dtype: float64\n",
            "Aproximacion de s por la regla empirica:  0    2.3175\n",
            "dtype: float64\n",
            "Desviacion estandar real:  0    1.871384\n",
            "dtype: float64\n",
            "Diferencia:  0    0.446116\n",
            "dtype: float64 o 0    23.83883\n",
            "dtype: float64 % de sobreestimacion.)\n"
          ]
        }
      ]
    },
    {
      "cell_type": "markdown",
      "source": [
        "# **6**\n",
        "\n",
        "De acuerdo con la Environmental Protection Agency, el cloroformo, que en su forma gaseosa es un agente cancerígeno, está presente en pequeñas cantidades en las 240,000 fuentes públicas de agua de Estados Unidos. Si la media y la desviación estándar de las cantidades de cloroformo presentes en las fuentes de agua son 34 y 53 microgramos por litro (mg/L), respectivamente, explique por qué las cantidades de cloroformo no tienen una distribución normal."
      ],
      "metadata": {
        "id": "tjydJVAt_Jjl"
      }
    },
    {
      "cell_type": "markdown",
      "source": [
        "En una distribucion normal se presenta **simetria**, en las colas los valores se extienden infinitamente en ambas direcciones pero con probabilidades muy bajas en las mismas.\n",
        "\n",
        "En una distribucion normal media = mediana = moda; estos tres parametros coinciden en el centro de la distribucion.\n",
        "\n",
        "Calculemos el coficiente de variacion para los datos del analisis del cloroformo:"
      ],
      "metadata": {
        "id": "bKBEbFwo__4u"
      }
    },
    {
      "cell_type": "code",
      "source": [
        "mean = 34   #Media proporcianada.\n",
        "std = 53    #desviacion estandar proporcianada.\n",
        "\n",
        "cv = std/mean   #coeficiente de variacion.\n",
        "porcentaje = cv*100\n",
        "print(porcentaje, '%')"
      ],
      "metadata": {
        "colab": {
          "base_uri": "https://localhost:8080/"
        },
        "id": "4Pq2dzdC8orj",
        "outputId": "6f97803c-cf9c-4000-f925-fd7a9074d2b9"
      },
      "execution_count": null,
      "outputs": [
        {
          "output_type": "stream",
          "name": "stdout",
          "text": [
            "155.88235294117646 %\n"
          ]
        }
      ]
    },
    {
      "cell_type": "markdown",
      "source": [
        "Tenemos un coeficiente de variacion de mas del 100% lo cual nos suguiere que existe una dispersion extrema y asimetria.\n",
        "\n",
        "Veamos los valores que estan auna desviacion estandar de la media:"
      ],
      "metadata": {
        "id": "n5m1_m2kBz_W"
      }
    },
    {
      "cell_type": "code",
      "source": [
        "valo = mean -std\n",
        "valo"
      ],
      "metadata": {
        "colab": {
          "base_uri": "https://localhost:8080/"
        },
        "id": "lGNvXURWDlXC",
        "outputId": "f885b82e-c924-4b0e-bdc5-2dc86cc04ac4"
      },
      "execution_count": null,
      "outputs": [
        {
          "output_type": "execute_result",
          "data": {
            "text/plain": [
              "-19"
            ]
          },
          "metadata": {},
          "execution_count": 20
        }
      ]
    },
    {
      "cell_type": "markdown",
      "source": [
        "Nos arroja un valor negativo, sin embargo, las concentraciones de cloroformo no pueden ser negativas. Notemos que std > mean, con esto podemos inferir que los datos estan muy dipersos hacia la derecha.\n",
        "\n",
        "Estos datos no pueden tener una distribucion normal porque fisicamente no se pueden admitir valores negativos; std > mean lo que suguiere una distribucion sesgada a la derecha."
      ],
      "metadata": {
        "id": "w-SokHo_DrPm"
      }
    },
    {
      "cell_type": "markdown",
      "source": [
        "# **7**.\n",
        "\n",
        "Los costos semanales de mantenimiento para una fábrica, registrados en un largo periodo y ajustados a la inflación, tienden a tener una distribución aproximadamente normal con un promedio de $\\$$420 y una desviación estándar de $\\$$30. Si la cantidad de $450 está presupuestada para la semana próxima, ¿cuál es una probabilidad aproximada de que se rebase esta cantidad presupuestada?"
      ],
      "metadata": {
        "id": "HJigQjMlFfDq"
      }
    },
    {
      "cell_type": "code",
      "source": [
        "from scipy.stats import norm\n",
        "\n",
        "mu = 420\n",
        "std =30\n",
        "presupuesto = 450\n",
        "\n",
        "#Calculamos la puntuacion Z:\n",
        "\n",
        "z = (presupuesto - mu)/std\n",
        "\n",
        "#Calculamos la probabilidad de obtener Z:\n",
        "\n",
        "pr = norm.cdf(z)\n",
        "\n",
        "#Calculamos la probabilidad de rebasar la cantidad presupuestada:\n",
        "pro_rebasar = 1 - pr\n",
        "\n",
        "print(f'La probabilidad de rebasar la cantidad presupuestada es: {pro_rebasar:.4f} o en porcentaje: {pro_rebasar*100:.2f}%')"
      ],
      "metadata": {
        "colab": {
          "base_uri": "https://localhost:8080/"
        },
        "id": "R0B7KBoPF2IT",
        "outputId": "659852a2-c880-49c1-8112-4636ebc7e068"
      },
      "execution_count": null,
      "outputs": [
        {
          "output_type": "stream",
          "name": "stdout",
          "text": [
            "La probabilidad de rebasar la cantidad presupuestada es: 0.1587 o en porcentaje: 15.87%\n"
          ]
        }
      ]
    },
    {
      "cell_type": "code",
      "source": [
        "#Another way:\n",
        "\n",
        "pro = norm.cdf(presupuesto, loc=mu, scale=std)\n",
        "\n",
        "prob_rebasar = 1-pro\n",
        "\n",
        "print(f'La probabilidad de rebasar la cantidad presupuestada es: {prob_rebasar:.4f} o en porcentaje: {prob_rebasar*100:.2f}%')"
      ],
      "metadata": {
        "colab": {
          "base_uri": "https://localhost:8080/"
        },
        "id": "hQfJEMPFHIHM",
        "outputId": "0a9fa20e-d529-47c0-f7c5-67145b7df37a"
      },
      "execution_count": null,
      "outputs": [
        {
          "output_type": "stream",
          "name": "stdout",
          "text": [
            "La probabilidad de rebasar la cantidad presupuestada es: 0.1587 o en porcentaje: 15.87%\n"
          ]
        }
      ]
    },
    {
      "cell_type": "markdown",
      "source": [
        "# **8**.\n",
        "\n",
        "El fabricante de un nuevo aditivo de alimento para ganado dice que 80% de los animales alimentados con una dieta que incluya este aditivo deben tener un aumento mensual de peso de más de 20 libras. Una muestra grande de mediciones de aumento de peso para ganado alimentado con esta dieta muestra una distribución aproximadamente normal, con media de 22 libras y desviación estándar de 2 libras. ¿Piensa el lector que la información muestral contradice lo dicho por el fabricante? Calcule la probabilidad de un aumento de peso mayor que 20 libras."
      ],
      "metadata": {
        "id": "JNcPrWDOg8Ap"
      }
    },
    {
      "cell_type": "code",
      "source": [
        "#Para comprobar si lo que dice el fabricante es cierto, vamos a calcular la\n",
        "#proporcion que aumento en el peso de mas de 20 libras segun los datos proporcionados:\n",
        "\n",
        "mu = 22\n",
        "std = 2\n",
        "valor_limite = 20\n",
        "\n",
        "#Calculamos la puntuacion z:\n",
        "\n",
        "z = (valor_limite - mu)/ std\n",
        "\n",
        "#Calculamos la probabilidad P(x > 20):\n",
        "\n",
        "from scipy.stats import norm\n",
        "\n",
        "prop = norm.cdf(z)\n",
        "\n",
        "prob = 1-prop\n",
        "\n",
        "print(f'La probabilidad de un aumento de peso mayor a 20 libras es: {prob:.4f} o en porcentaje: {prob*100:.2f}%')"
      ],
      "metadata": {
        "id": "Ar6j0L6AhEiu",
        "colab": {
          "base_uri": "https://localhost:8080/"
        },
        "outputId": "bbd62d58-a795-410b-85bb-75611ff1b68f"
      },
      "execution_count": null,
      "outputs": [
        {
          "output_type": "stream",
          "name": "stdout",
          "text": [
            "La probabilidad de un aumento de peso mayor a 20 libras es: 0.8413 o en porcentaje: 84.13%\n"
          ]
        }
      ]
    },
    {
      "cell_type": "code",
      "source": [
        "#Hacemos lo mesmo:\n",
        "\n",
        "mu = 22\n",
        "std = 2\n",
        "valor_limite = 20\n",
        "\n",
        "propa = norm.cdf(valor_limite, loc = mu, scale=std)\n",
        "\n",
        "proba=1-propa\n",
        "\n",
        "print(f'La probanilidad de un aumento de peso mayor a 20 libras es {proba:.4f} o en porcentaje: {proba*100:2f}%')"
      ],
      "metadata": {
        "colab": {
          "base_uri": "https://localhost:8080/"
        },
        "id": "1ViyGQHq1WFK",
        "outputId": "56226343-a44f-4e37-df5f-5b76545f9f0a"
      },
      "execution_count": null,
      "outputs": [
        {
          "output_type": "stream",
          "name": "stdout",
          "text": [
            "La probanilidad de un aumento de peso mayor a 20 libras es 0.8413 o en porcentaje: 84.134475%\n"
          ]
        }
      ]
    },
    {
      "cell_type": "markdown",
      "source": [
        "Por lo tanto, el fabricante nos dice la verdad."
      ],
      "metadata": {
        "id": "AUPVDb_grWbR"
      }
    },
    {
      "cell_type": "markdown",
      "source": [
        "# **9**\n",
        "\n",
        "La duración media de anuncios comerciales por televisión es de 75 segundos con desviación estándar de 20 segundos. Para contestar lo siguiente, suponga que las duraciones están distribuidas normalmente en forma aproximada.\n",
        "\n",
        "¿Qué porcentaje de anuncios dura más de 95 segundos?"
      ],
      "metadata": {
        "id": "Xqs0L0JIq7xy"
      }
    },
    {
      "cell_type": "code",
      "source": [
        "mu = 75\n",
        "std= 20\n",
        "valor = 95"
      ],
      "metadata": {
        "id": "_FFpiEjsq64z"
      },
      "execution_count": null,
      "outputs": []
    },
    {
      "cell_type": "code",
      "source": [
        "from scipy.stats import norm\n",
        "\n",
        "pro = 1 - norm.cdf(valor, loc = mu, scale=std)\n",
        "\n",
        "print(f'La probabilidad de quq un anuncio dure mas de 95 segundos es: {pro:.4f} o en porcentanje: {pro*100:.2f}')"
      ],
      "metadata": {
        "colab": {
          "base_uri": "https://localhost:8080/"
        },
        "id": "jO-EHoRfrKrc",
        "outputId": "b446bcff-4b55-491b-a0d0-21da3635f465"
      },
      "execution_count": null,
      "outputs": [
        {
          "output_type": "stream",
          "name": "stdout",
          "text": [
            "La probabilidad de quq un anuncio dure mas de 95 segundos es: 0.1587 o en porcentanje: 15.87\n"
          ]
        }
      ]
    },
    {
      "cell_type": "markdown",
      "source": [
        "¿Qué porcentaje de anuncios dura entre 35 y 115 segundos?"
      ],
      "metadata": {
        "id": "9bQX1BQtr1XT"
      }
    },
    {
      "cell_type": "code",
      "source": [
        "p35 = norm.cdf(35, loc = mu, scale=std)\n",
        "p115=norm.cdf(115, loc=mu, scale=std)\n",
        "\n",
        "p = p115-p35\n",
        "\n",
        "print(f'La probabilidad de que un anuncio dure entre 35 y 115 segundos es: {p:.4f} o en porcentaje: {p*100:.2f}%')"
      ],
      "metadata": {
        "colab": {
          "base_uri": "https://localhost:8080/"
        },
        "id": "04XHu0_sr2Yf",
        "outputId": "0ed7e091-a384-4d71-e15b-e257e087f06d"
      },
      "execution_count": null,
      "outputs": [
        {
          "output_type": "stream",
          "name": "stdout",
          "text": [
            "La probabilidad de que un anuncio dure entre 35 y 115 segundos es: 0.9545 o en porcentaje: 95.45%\n"
          ]
        }
      ]
    },
    {
      "cell_type": "markdown",
      "source": [
        "¿Esperaría que los anuncios duren más de 2 minutos? ¿Por qué sí o por qué no?"
      ],
      "metadata": {
        "id": "g26h9P3TsiEz"
      }
    },
    {
      "cell_type": "code",
      "source": [
        "#Calculemos la probabilidad de que un anuncio dure mas de 2 minutos o 120 segundos:\n",
        "\n",
        "pr = norm.cdf(120, loc = mu, scale=std)\n",
        "por = 1-pr\n",
        "\n",
        "print(f'La probabilidad de que un anuncio dure mas de 2 minutos es: {por:.4f} o en porcentaje:{por*100:.2f}%')\n",
        "print('Solamente el 1.2% de los anuncio superan los 2 minutos de duracion, por lo que no es comun y no lo esperasriamos.')"
      ],
      "metadata": {
        "colab": {
          "base_uri": "https://localhost:8080/"
        },
        "id": "nXOj8d10si0w",
        "outputId": "8a326742-090a-477f-8027-a9c8dd0ef81f"
      },
      "execution_count": null,
      "outputs": [
        {
          "output_type": "stream",
          "name": "stdout",
          "text": [
            "La probabilidad de que un anuncio dure mas de 2 minutos es: 0.0122 o en porcentaje:1.22%\n",
            "Solamente el 1.2% de los anuncio superan los 2 minutos de duracion, por lo que no es comun y no lo esperasriamos.\n"
          ]
        }
      ]
    },
    {
      "cell_type": "markdown",
      "source": [
        "# **10**.\n",
        "\n",
        "Los deportes acuáticos se han sugerido como método de ejercicio cardiovascular para atletas lesionados y otros que deseen un programa de entrenamiento aeróbico de bajo impacto. En un estudio para investigar la relación entre cadencia de ejercicios y ritmo cardiaco,1 se midieron los ritmos cardiacos de 20 voluntarios en buenas condiciones a una cadencia de 48 ciclos por minuto (un ciclo formado por dos pasos). Los datos son como sigue:\n",
        "\n",
        " 87 109 79 80 96 95 90 92 96 98\n",
        " 101 91 78 112 94 98 94 107 81 96\n",
        "\n",
        "Use la amplitud de las mediciones para obtener una estimación de la desviación estándar."
      ],
      "metadata": {
        "id": "xhOFuA35tvv3"
      }
    },
    {
      "cell_type": "code",
      "source": [
        "ata = [87, 109, 79, 80, 96, 95, 90, 92, 96, 98,101, 91, 78, 112, 94,\n",
        "       98, 94, 107, 81, 96]\n",
        "\n",
        "#Calculamos el rango:\n",
        "\n",
        "rango = max(ata) - min(ata)\n",
        "\n",
        "#Calculamos la estimacion de la desviacion estandar. Para muestras con n<=30 podemos usar:\n",
        "\n",
        "sigma_estimada = rango/4\n",
        "\n",
        "print(f\"Estimación de la desviación estándar (σ ≈ R/4): {sigma_estimada:.2f}\")"
      ],
      "metadata": {
        "colab": {
          "base_uri": "https://localhost:8080/"
        },
        "id": "lrrPQontt_g5",
        "outputId": "f18ec0f6-e7b6-4df4-82e7-eb75dfcb7922"
      },
      "execution_count": 2,
      "outputs": [
        {
          "output_type": "stream",
          "name": "stdout",
          "text": [
            "Estimación de la desviación estándar (σ ≈ R/4): 8.50\n"
          ]
        }
      ]
    },
    {
      "cell_type": "markdown",
      "source": [
        "Construya un histograma de frecuencia para los datos. Use el histograma para obtener una aproximación visual a la media y la desviacion estandar."
      ],
      "metadata": {
        "id": "CkYKvxkd3RMf"
      }
    },
    {
      "cell_type": "code",
      "source": [
        "import matplotlib.pyplot as plt\n",
        "import numpy as np\n",
        "\n",
        "plt.figure(figsize=(10,6))\n",
        "n, bins, patches = plt.hist(ata, bins=6, edgecolor='black', alpha  = 0.7,\n",
        "                            color='skyblue')\n",
        "\n",
        "plt.title('Histograma de frecuencia: Ritmos cardiacos.', fontsize=14)\n",
        "plt.xlabel('Ritmo cardiaco (latidos/minuto)', fontsize=12)\n",
        "plt.ylabel('Frecuencia.', fontsize=12)\n",
        "plt.grid(axis='y', linestyle='--', alpha=0.7)\n",
        "\n",
        "mu = np.mean(ata)\n",
        "std=np.std(ata, ddof=1)  #para datos muestrales, n-1\n",
        "\n",
        "plt.axvline(mu, color='red', linestyle='--', linewidth=2,\n",
        "            label=f'Media ($\\bar{{y}}$) = {mu:.1f}')\n",
        "plt.axvline(mu + std, color='blue', linestyle='--', linewidth=2,\n",
        "            label=f'$\\bar{{y}} + s$ = {mu + std:.1f}')\n",
        "plt.axvline(mu-std, color='blue', linestyle='--', linewidth=2,\n",
        "            label='f'$\\bar{{y}} - s$ = {mu - std:.1f}'')\n",
        "\n",
        "plt.legend(fontsize=10)\n",
        "plt.show()"
      ],
      "metadata": {
        "colab": {
          "base_uri": "https://localhost:8080/",
          "height": 569
        },
        "id": "O_17t-0i3V8g",
        "outputId": "01791f02-7e8c-4b04-c2f0-bd9f99b8baf3"
      },
      "execution_count": 5,
      "outputs": [
        {
          "output_type": "display_data",
          "data": {
            "text/plain": [
              "<Figure size 1000x600 with 1 Axes>"
            ],
            "image/png": "[encoded data removed]"
          },
          "metadata": {}
        }
      ]
    },
    {
      "cell_type": "markdown",
      "source": [
        "Construya los intervalos y± ks, k = 1, 2 y 3, y cuente el número de mediciones que caen en cada intervalo."
      ],
      "metadata": {
        "id": "8KyWODq5NCQN"
      }
    },
    {
      "cell_type": "code",
      "source": [
        "from scipy.stats import norm\n",
        "\n",
        "def pop(sup, inf):\n",
        "  p = norm.cdf(sup, loc=mu, scale=std)\n",
        "  pb = norm.cdf(inf, loc=mu, scale=std)\n",
        "  pp = p-pb\n",
        "  return print(f'La proporcion que cae entre {p} y {pb} es: {pp:.4f} o en porcentaje: {pp*100:2f}')"
      ],
      "metadata": {
        "id": "oJR2C3lavF6x"
      },
      "execution_count": 11,
      "outputs": []
    },
    {
      "cell_type": "code",
      "source": [
        "#Los valores que nos pide para encontrar la proporcion:\n",
        "\n",
        "ks1 = mu + std\n",
        "ki1 = mu - std\n",
        "\n",
        "ks2 = mu + 2*std\n",
        "ki2 = mu - 2*std\n",
        "\n",
        "ks3 = mu + 3*std\n",
        "ki3 = mu - 3*std"
      ],
      "metadata": {
        "id": "o7JcaeKGR-JA"
      },
      "execution_count": 13,
      "outputs": []
    },
    {
      "cell_type": "code",
      "source": [
        "pop(ks1, ki1)\n",
        "pop(ks2, ki2)\n",
        "pop(ks3, ki3)"
      ],
      "metadata": {
        "colab": {
          "base_uri": "https://localhost:8080/"
        },
        "id": "PCK4lQn0SsQl",
        "outputId": "e5086c28-aae5-4c52-94ff-5023a935cd63"
      },
      "execution_count": 14,
      "outputs": [
        {
          "output_type": "stream",
          "name": "stdout",
          "text": [
            "La proporcion que cae entre 0.841344746068543 y 0.15865525393145702 es: 0.6827 o en porcentaje: 68.268949\n",
            "La proporcion que cae entre 0.9772498680518208 y 0.022750131948179177 es: 0.9545 o en porcentaje: 95.449974\n",
            "La proporcion que cae entre 0.9986501019683699 y 0.001349898031630099 es: 0.9973 o en porcentaje: 99.730020\n"
          ]
        }
      ]
    },
    {
      "cell_type": "markdown",
      "source": [
        "# **11**.\n",
        "\n",
        "Los datos siguientes dan los tiempos de falla para n = 88 radiotransmisores-receptores:\n",
        "\n",
        "16 224 16 80 96 536 400 80\n",
        " 392 576 128 56 656 224 40 32\n",
        " 358 384 256 246 328 464 448 716\n",
        " 304 16 72 8 80 72 56 608\n",
        " 108 194 136 224 80 16 424 264\n",
        " 156 216 168 184 552 72 184 240\n",
        " 438 120 308 32 272 152 328 480\n",
        " 60 208 340 104 72 168 40 152\n",
        " 360 232 40 112 112 288 168 352\n",
        " 56 72 64 40 184 264 96 224\n",
        " 168 168 114 280 152 208 160 176\n",
        "\n",
        "Utilice el rango para calcular la desviacion estandar para los n = 88 tiempos para falla."
      ],
      "metadata": {
        "id": "L41WappUT-VH"
      }
    },
    {
      "cell_type": "code",
      "source": [
        "tf = [16, 224, 16, 80, 96, 536, 400, 80, 392, 576, 128, 56, 656, 224, 40,\n",
        "      32, 358, 384, 256, 246, 328, 464, 448, 716, 304, 16, 72,\n",
        "      8, 80, 72, 56, 608, 108, 194, 136, 224, 80, 16, 424, 264, 156,\n",
        "      216, 168, 184, 552, 72, 184, 240, 438, 120, 308, 32, 272, 152,\n",
        "      328, 480, 60, 208, 340, 104, 72, 168, 40, 152, 360, 232, 40, 112,\n",
        "      112, 288, 168, 352, 56, 72, 64, 40, 184, 264, 96, 224, 168,\n",
        "      168, 114, 280, 152, 208, 160, 176]"
      ],
      "metadata": {
        "id": "qgyGGjpXUKLB"
      },
      "execution_count": 16,
      "outputs": []
    },
    {
      "cell_type": "code",
      "source": [
        "rango = max(tf) - min(tf)\n",
        "\n",
        "#Para n >= 30 se utiliza la siguiente aproximacion:\n",
        "\n",
        "des = rango/4.55\n",
        "des"
      ],
      "metadata": {
        "colab": {
          "base_uri": "https://localhost:8080/"
        },
        "id": "mqnq7vq9UzQP",
        "outputId": "f5f62f59-8a1d-4a01-b086-75140c146eca"
      },
      "execution_count": 21,
      "outputs": [
        {
          "output_type": "execute_result",
          "data": {
            "text/plain": [
              "155.60439560439562"
            ]
          },
          "metadata": {},
          "execution_count": 21
        }
      ]
    },
    {
      "cell_type": "markdown",
      "source": [
        "Construya un histograma de frecuencia para los datos. [Observe la tendencia de la distribución a extenderse hacia fuera (sesgo) a la derecha.]"
      ],
      "metadata": {
        "id": "5Wc05961WEho"
      }
    },
    {
      "cell_type": "code",
      "source": [
        "#Usamos0 la regla de Sturges para obtener el numero de bins:\n",
        "#n = len(tf)\n",
        "#bins = int(1322*np.log10(n))\n",
        "\n",
        "bins = np.arange(0, 800, 50)\n",
        "plt.figure(figsize=(12,6))\n",
        "plt.hist(tf, bins = bins, edgecolor= 'black', alpha = 0.7,\n",
        "         color = 'skyblue')\n",
        "plt.title('Histogram a de tiempo de fallas de radiotransmisores.', fontsize = 14)\n",
        "plt.xlabel('¿Tiempo de falla?', fontsize=12)\n",
        "plt.ylabel('Frecuencia.', fontsize=12)\n",
        "plt.grid(axis='y', linestyle='--', alpha =0.7)\n",
        "\n",
        "#Lineas de media y mediana:\n",
        "\n",
        "meia=np.mean(tf)\n",
        "meiana = np.median(tf)\n",
        "plt.axvline(meia, color = 'red', linestyle='--', linewidth=2,\n",
        "            label = f'Media = {meia:.2f}')\n",
        "plt.axvline(meiana, color = 'blue', linestyle='--', linewidth=2,\n",
        "            label = f'Mediana = {meiana:.2f}')\n",
        "plt.legend(fontsize=10)\n",
        "plt.show()"
      ],
      "metadata": {
        "colab": {
          "base_uri": "https://localhost:8080/",
          "height": 569
        },
        "id": "3yxkWW4lVc9f",
        "outputId": "388fbbda-438f-4efc-ecba-d106fa9820c1"
      },
      "execution_count": 26,
      "outputs": [
        {
          "output_type": "display_data",
          "data": {
            "text/plain": [
              "<Figure size 1200x600 with 1 Axes>"
            ],
            "image/png": "[encoded data removed]"
          },
          "metadata": {}
        }
      ]
    },
    {
      "cell_type": "markdown",
      "source": [
        "# **12**.\n",
        "\n",
        "Un conjunto de 340 califi caciones de examen, que muestran una distribución de frecuencia relativa en forma de campana, tiene una media de y = 72 y una desviación estándar de s = 8. ¿Aproximadamente cuántas de las califi caciones se esperaría que cayeran en el intervalo de 64 a 80? ¿Y en el intervalo de 56 a 88?"
      ],
      "metadata": {
        "id": "1eYEbKGbaqZ3"
      }
    },
    {
      "cell_type": "code",
      "source": [
        "#Calculamos los valores z para hallar la proporcion:\n",
        "y = 72\n",
        "s = 8\n",
        "\n",
        "zs  = (80-y)/s\n",
        "zi = (64-y)/s\n",
        "\n",
        "ps = norm.cdf(zs)\n",
        "pi = norm.cdf(zi)\n",
        "\n",
        "p1 = ps - pi\n",
        "\n",
        "zs2  = (88-y)/s\n",
        "zi2 = (56-y)/s\n",
        "\n",
        "ps2 = norm.cdf(zs2)\n",
        "pi2 = norm.cdf(zi2)\n",
        "\n",
        "p2 = ps2 - pi2\n",
        "\n",
        "print(f'La proporcion en el intervalo {[64, 80]} es: {p1:.4f} o en porcentaje: {p1*100:.2f}%')\n",
        "print(f'La proporcion en el intervalo {[56, 88]} es: {p2:.4f} o en porcentaje: {p2*100:.2f}%')"
      ],
      "metadata": {
        "colab": {
          "base_uri": "https://localhost:8080/"
        },
        "id": "18DtcRBsdvLC",
        "outputId": "d36b828d-ed66-468d-bda6-e94f23edfb31"
      },
      "execution_count": 35,
      "outputs": [
        {
          "output_type": "stream",
          "name": "stdout",
          "text": [
            "La proporcion en el intervalo [64, 80] es: 0.6827 o en porcentaje: 68.27%\n",
            "La proporcion en el intervalo [56, 88] es: 0.9545 o en porcentaje: 95.45%\n"
          ]
        }
      ]
    },
    {
      "cell_type": "markdown",
      "source": [
        "# **13**.\n",
        "\n",
        "La descarga de sólidos suspendidos de una mina de fosfato está normalmente distribuida con una descarga media diaria de 27 miligramos por litro (mg/L) y desviación estándar de 14 mg/L. ¿En qué proporción de los días será la descarga diaria menor que 13 mg/L?"
      ],
      "metadata": {
        "id": "us065-DrfDiC"
      }
    },
    {
      "cell_type": "code",
      "source": [
        "import scipy.stats as stats\n",
        "\n",
        "prob = stats.norm.cdf(13, loc=27, scale=14)\n",
        "print(f\"Proporción de días con descarga < 13 mg/L: {prob * 100:.2f}%\")"
      ],
      "metadata": {
        "colab": {
          "base_uri": "https://localhost:8080/"
        },
        "id": "VGYKAJ0WfG4C",
        "outputId": "79328b3f-b935-4215-d944-9ea586cdbd3a"
      },
      "execution_count": 36,
      "outputs": [
        {
          "output_type": "stream",
          "name": "stdout",
          "text": [
            "Proporción de días con descarga < 13 mg/L: 15.87%\n"
          ]
        }
      ]
    },
    {
      "cell_type": "markdown",
      "source": [
        "# **14**.\n",
        "\n",
        "Una máquina produce cojinetes con diámetro medio de 3.00 pulgadas y desviación estándar de 0.01 pulgada. Los cojinetes con diámetros de más de 3.02 o de menos de 2.98 no satisfacen las especificacicaciones de calidad.\n",
        "\n",
        "¿Aproximadamente qué fracción de la producción de esta máquina no cumplirá con las especificaciones?"
      ],
      "metadata": {
        "id": "nGdutrExg81R"
      }
    },
    {
      "cell_type": "code",
      "source": [
        "#Vamo a calcula:\n",
        "me = 3\n",
        "es = 0.01\n",
        "\n",
        "prop_inf = norm.cdf(2.98, loc = me, scale = es)\n",
        "prop_sup = 1 - norm.cdf(3.02, loc = me, scale=es)\n",
        "\n",
        "probav = prop_sup + prop_inf\n",
        "\n",
        "print(f'El porcentaje de cojinetes que no cumpliran los estandares de calidad es: {probav*100:.2f}%')"
      ],
      "metadata": {
        "colab": {
          "base_uri": "https://localhost:8080/"
        },
        "id": "aaEaV9qti3UF",
        "outputId": "fea39395-f023-4d4c-8745-115ec510f86f"
      },
      "execution_count": 40,
      "outputs": [
        {
          "output_type": "stream",
          "name": "stdout",
          "text": [
            "El porcentaje de cojinetes que no cumpliran los estandares de calidad es: 4.55%\n"
          ]
        }
      ]
    },
    {
      "cell_type": "markdown",
      "source": [
        "¿Qué suposiciones hizo usted con respecto a la distribución de diámetros de cojinetes para contestar esta pregunta?"
      ],
      "metadata": {
        "id": "grlnqdeHj01C"
      }
    },
    {
      "cell_type": "markdown",
      "source": [
        "* Que la distribucion es Gussiana.\n",
        "* Independencia en las mediciones: Cada cojinete se produce de manera independiente, sin correlacion entre mediciones consecutivas; si existe algun imperfecto en la maquinaria o lotes defectusos, esta suposicion fallaria.\n",
        "* Parametros constantes. En la realidad el desgaste en la maquinaria podria alterar $\\mu$ o $σ$."
      ],
      "metadata": {
        "id": "_r4aubrhj3VH"
      }
    },
    {
      "cell_type": "markdown",
      "source": [
        "# **15**.\n",
        "\n",
        "En comparación con sus compañeras que se quedan en casa, las mujeres empleadas fuera de casa tienen niveles más altos de lipoproteínas de alta densidad (HDL, por sus siglas en inglés), el colesterol “bueno” asociado con menor riesgo de ataques al corazón. Un estudio de niveles de colesterol en 2000 mujeres, en edades de 25 a 64 y que viven en Augsburg, Alemania, fue realizado por Ursula Haertel, Ulrigh Keil y colegas2 en el GSF-Medis Institut en Munich. De estas 2000 mujeres, el 48% que trabajaban fuera de casa tuvieron niveles de HDL que estaban entre 2.5 y 3.6 miligramos por decilitro (mg/dL) más altos que los niveles de HDL de sus similares que se quedaban en casa. Suponga que la diferencia en niveles de HDL está normalmente distribuida, con media 0 (lo que indica que no hay diferencia entre los dos grupos de mujeres) y desviación estándar de 1.2 mg/dL. Si usted fuera a seleccionar al azar una mujer empleada y una que se queda en casa, ¿cuál es la probabilidad de que la diferencia en sus niveles de HDL esté entre 1.2 y 2.4?"
      ],
      "metadata": {
        "id": "wDwFJXjglThA"
      }
    },
    {
      "cell_type": "code",
      "source": [
        "prob = stats.norm.cdf(2.4, loc=0, scale=1.2) - stats.norm.cdf(1.2, loc=0, scale=1.2)\n",
        "print(f\"Probabilidad: {prob * 100:.2f}%\")"
      ],
      "metadata": {
        "colab": {
          "base_uri": "https://localhost:8080/"
        },
        "id": "qU3UrSPRmC96",
        "outputId": "7a4b31c3-d69b-4117-f825-19ef93b3657c"
      },
      "execution_count": 41,
      "outputs": [
        {
          "output_type": "stream",
          "name": "stdout",
          "text": [
            "Probabilidad: 13.59%\n"
          ]
        }
      ]
    }
  ]
}